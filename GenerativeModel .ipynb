{
 "cells": [
  {
   "cell_type": "markdown",
   "metadata": {},
   "source": [
    "### In this project, we will do model comparison on four Dark Matter density profiles. We will test which models fits the galaxy rotational curve best."
   ]
  },
  {
   "cell_type": "markdown",
   "metadata": {},
   "source": [
    "### Model\n",
    "Model \n",
    "\n",
    "$ M $ = The rotational curve calculated with the existence of dark matter and the dark matter density is given by the density profile. We have four dark matter density files and give us 4 models to compare. \n",
    "\n",
    "The posterior distribution is calculated as, $ p(M|D,I) = \\frac{p(M|I) p(D|M, I)}{p(D|I)} $"
   ]
  },
  {
   "cell_type": "markdown",
   "metadata": {},
   "source": [
    "\n",
    "\n",
    "### The four Dark Matter density profiles models: \n",
    "\n",
    "Note that\n",
    "\n",
    "r: galactocentric radius\n",
    "\n",
    "$ \\rho( r ) $ : Dark Matter Density as a function of galactocentric radius"
   ]
  },
  {
   "cell_type": "markdown",
   "metadata": {},
   "source": [
    "\n",
    "### (1) NFW profile :\n",
    "\n",
    "$ \\   $  $ \\rho \\left( r \\right) \\propto \\frac{1}{{\\left( r/a \\right)}{\\left[ 1~+~{{\\left( r/a \\right)}} \\right]}^{2}} $\n",
    "\n",
    "\n",
    "### (2) Isothermal profile:\n",
    "\n",
    "$ \\ $   $  \\rho \\left( r \\right) \\propto \\frac{1}{{\\left[ 1~+~{{\\left( r/a \\right)}^{2}} \\right]}} $\n",
    "\n",
    "\n",
    "### (3) Einasto profile :\n",
    "\n",
    "$ \\   $  $ \\rho \\left( r \\right) \\propto \\exp^{- A r ^\\alpha} $\n",
    "\n",
    "\n",
    "### (4) Generalized DM profile :\n",
    "\n",
    "$ \\   $  $ \\rho \\left( r \\right) \\propto    \\frac{1}{{\\left( r/a \\right)}^{\\gamma}{\\left[ 1~+~{{\\left( r/a \\right)}^{\\alpha}} \\right]}^{ \\frac{(\\beta - \\gamma)}{\\alpha}}} $\n",
    "\n"
   ]
  },
  {
   "cell_type": "markdown",
   "metadata": {},
   "source": [
    "### We can calcuate rotational curve from Dark Matter density profiles, by assuming dark matter distribution is spherically symmetric"
   ]
  },
  {
   "cell_type": "markdown",
   "metadata": {},
   "source": [
    "$ \\frac{GMm}{4 \\pi  R^2} = \\frac {m v^2}{R}$  where $M=\\int_{R_o}^{R} \\rho (r) 4 \\pi  R^2 dr$"
   ]
  },
  {
   "cell_type": "markdown",
   "metadata": {},
   "source": [
    "$v_{calculated} = \\sqrt { \\frac{ G   \\int_{R_o}^{R} \\rho (r) 4 \\pi  R^2 dr} {4 \\pi  R}  }   $"
   ]
  },
  {
   "cell_type": "code",
   "execution_count": null,
   "metadata": {
    "collapsed": true
   },
   "outputs": [],
   "source": [
    "  #  !!!! pip install nestle  (from terminal)\n",
    "    \n",
    "# !conda install -y -c conda-forge nestle (somehow couldn't find nestle)"
   ]
  },
  {
   "cell_type": "code",
   "execution_count": 84,
   "metadata": {
    "collapsed": true
   },
   "outputs": [],
   "source": [
    "import numpy as np\n",
    "import nestle\n",
    "\n",
    "import matplotlib.pyplot as plt\n",
    "import matplotlib.animation as animation\n",
    "\n",
    "from scipy.integrate import quad"
   ]
  },
  {
   "cell_type": "markdown",
   "metadata": {},
   "source": [
    "### The data will be used in this project is the measured rotational speed of the interstellar medium in our local galaxy, as shown in the following figure. "
   ]
  },
  {
   "cell_type": "code",
   "execution_count": 75,
   "metadata": {
    "collapsed": false
   },
   "outputs": [],
   "source": [
    "# data_x =  distance to the center of the galaxy \n",
    "data_x = np.array([0.2,0.38,0.66,1.61,2.57,3.59,4.51,5.53,6.5,7.56,8.34,9.45,10.5,11.44,12.51,13.53,14.59,16.05,18.64,26.3,28.26,29.51,\n",
    "32.04,33.99,36.49,38.41,40.42,42.4,44.49,\n",
    "45.99,48.06,49.49,51.39,53.89,56.89,57.98,60.92,64.73,69.31,72.96,76.95,81.13,84.9,89.35,92.44,\n",
    "97.41,100.72,106.77,119.98,189.49])\n",
    "\n",
    "# data_y  =  ratational velocity\n",
    "data_y = np.array([233,268.92,250.75,217.83,219.58,223.11,247.88,253.14,270.95,267.8,270.52,235.58,249.72,261.96,\n",
    "284.3,271.54,251.43,320.7,286.46,189.64,237.99,209.82,179.14,170.37,175.92,191.57,197.59,192.79,\n",
    "213.22,179.39,213.03,178.57,183.31,157.89,191.76,210.72,168.02,206.47,203.62,190.53,222.72,186.29,122.25,\n",
    "143.95,154.66,184,108.68,137.15,150.18,125.01])\n",
    "# data_yerr  =  the error of ratational velocity \n",
    "data_yerr = np.array([13.32,4.67,11.35,5.81,1.48,2.43,2.99,1.69,2.19,0.96,0.66,8.44,13.44,11.71,17.5,15.57,25.6,\n",
    "25.27,101.18,6.74,11.54,9.16,6.65,6.93,6.62,11.73,14.12,5.92,17.17,11.23,24.72,17.63,23.58,\n",
    "19.57,24.35,29.81,25.67,36.27,40.89,40.98,74.37,66.53,36.46,29.49,67.23,72.86,40.99,53.17,25.46,37.32])"
   ]
  },
  {
   "cell_type": "code",
   "execution_count": 63,
   "metadata": {
    "collapsed": false
   },
   "outputs": [
    {
     "data": {
      "image/png": "[encoded data removed]",
      "text/plain": [
       "<matplotlib.figure.Figure at 0x10ee44ef0>"
      ]
     },
     "metadata": {},
     "output_type": "display_data"
    }
   ],
   "source": [
    "data_xerr = 0\n",
    "plt.figure()\n",
    "plt.errorbar(data_x,data_y,data_yerr,data_xerr,fmt='*')\n",
    "plt.xlabel(\"r (kpc)\")\n",
    "plt.ylabel('V (km/s)')\n",
    "plt.title(\"The measured rotational speed of the interstellar medium as a fucntion of the galactocentric radius\")\n",
    "plt.show()"
   ]
  },
  {
   "cell_type": "markdown",
   "metadata": {},
   "source": [
    "### The log likelihood is meant to capture how well a model is able to reproduce the data that it is meant to simulate.\n",
    "\n",
    "$log p(D|M, I) = constant* \\prod_{i}^{} log(\\sigma_i)  \\sum_{i}{}(\\frac{(v_{icalculated} - v_{imeasured})^2}{2 \\sigma_i^2}) $"
   ]
  },
  {
   "cell_type": "markdown",
   "metadata": {},
   "source": [
    "### The prior: \n",
    "By observing the data set, we discovered the rorational velocty increases as r increases from 0 kpc and reaches the maximum value at aorund r= 10 (kpc) and then decreases with a long tail. Therefore, we choose our prior to be the sum of a gaussian function and a polynomial decay function to be the prior.\n",
    "  \n",
    " $  p(M|I)  = \\exp (-(x-u)^2/{2\\sigma^2})+ constant_1/x + constant_2 $\n",
    "  "
   ]
  },
  {
   "cell_type": "code",
   "execution_count": 82,
   "metadata": {
    "collapsed": true
   },
   "outputs": [],
   "source": [
    "# It is a transformation from a space where variables are independently and uniformly distributed between 0 and 1 to the parameter space of interest. \n",
    "# x ranges in [0,1] \n",
    "def prior_transform(x):\n",
    "    return np.exp(-(x-25)**2/6)+300/x +50"
   ]
  },
  {
   "cell_type": "markdown",
   "metadata": {},
   "source": [
    "Therefore, we can calculated the posterior $ p(M|D,I) = \\frac{p(M|I) p(D|M, I)}{p(D|I)} $ and compare the posterior by MCMC and/or Nestle to do model comparison. \n",
    "\n",
    "By using the Nestle package, it will give us log evidence, numerical (sampling) error on logz, array of sample parameters, array of weights associated with each sampleand result.weights. "
   ]
  }
 ],
 "metadata": {
  "anaconda-cloud": {},
  "kernelspec": {
   "display_name": "Python [conda root]",
   "language": "python",
   "name": "conda-root-py"
  },
  "language_info": {
   "codemirror_mode": {
    "name": "ipython",
    "version": 3
   },
   "file_extension": ".py",
   "mimetype": "text/x-python",
   "name": "python",
   "nbconvert_exporter": "python",
   "pygments_lexer": "ipython3",
   "version": "3.5.2"
  }
 },
 "nbformat": 4,
 "nbformat_minor": 2
}
