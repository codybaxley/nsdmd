{
 "cells": [
  {
   "cell_type": "markdown",
   "metadata": {},
   "source": [
    "### In this project, we will do model comparison on four Dark Matter density profiles. We will test which models fits the galaxy rotational curve best."
   ]
  },
  {
   "cell_type": "markdown",
   "metadata": {},
   "source": [
    "### Model\n",
    "Model \n",
    "\n",
    "$ M $ = The rotational curve calculated with the existence of dark matter and the dark matter density is given by the density profile. We have four dark matter density files and give us 4 models to compare. \n",
    "\n",
    "The posterior distribution is calculated as, $ p(M|D,I) = \\frac{p(M|I) p(D|M, I)}{p(D|I)} $"
   ]
  },
  {
   "cell_type": "markdown",
   "metadata": {},
   "source": [
    "\n",
    "\n",
    "### The four Dark Matter density profiles models: \n",
    "\n",
    "Note that\n",
    "\n",
    "r: galactocentric radius\n",
    "\n",
    "$ \\rho( r ) $ : Dark Matter Density as a function of galactocentric radius"
   ]
  },
  {
   "cell_type": "markdown",
   "metadata": {},
   "source": [
    "\n",
    "### (1) NFW profile :\n",
    "\n",
    " $ \\rho \\left( r \\right) \\propto \\frac{1}{{\\left( r/a \\right)}{\\left[ 1~+~{{\\left( r/a \\right)}} \\right]}^{2}} $\n",
    "\n",
    "\n",
    "### (2) Isothermal profile:\n",
    "\n",
    "  $  \\rho \\left( r \\right) \\propto \\frac{1}{{\\left[ 1~+~{{\\left( r/a \\right)}^{2}} \\right]}} $\n",
    "\n",
    "\n",
    "### (3) Einasto profile :\n",
    "\n",
    " $ \\rho \\left( r \\right) \\propto \\exp^{- A r ^\\alpha} $\n",
    "\n",
    "\n",
    "### (4) Generalized DM profile :\n",
    "\n",
    " $ \\rho \\left( r \\right) \\propto    \\frac{1}{{\\left( r/a \\right)}^{\\gamma}{\\left[ 1~+~{{\\left( r/a \\right)}^{\\alpha}} \\right]}^{ \\frac{(\\beta - \\gamma)}{\\alpha}}} $\n",
    "\n"
   ]
  },
  {
   "cell_type": "markdown",
   "metadata": {},
   "source": [
    "### We can calcuate rotational curve from Dark Matter density profiles, by assuming dark matter distribution is spherically symmetric"
   ]
  },
  {
   "cell_type": "markdown",
   "metadata": {},
   "source": [
    "$ \\frac{GMm}{4 \\pi  R^2} = \\frac {m v^2}{R}$  where $M=\\int_{R_o}^{R} \\rho (r) 4 \\pi  R^2 dr$"
   ]
  },
  {
   "cell_type": "markdown",
   "metadata": {},
   "source": [
    "$v_{calculated} = \\sqrt { \\frac{ G   \\int_{R_o}^{R} \\rho (r) 4 \\pi  r^2 dr} {4 \\pi  r}  }   $"
   ]
  },
  {
   "cell_type": "code",
   "execution_count": null,
   "metadata": {
    "collapsed": true
   },
   "outputs": [],
   "source": []
  },
  {
   "cell_type": "code",
   "execution_count": 1,
   "metadata": {
    "collapsed": true
   },
   "outputs": [],
   "source": [
    "  #  !!!! pip install nestle  (from terminal)\n",
    "    \n",
    "# !conda install -y -c conda-forge nestle (somehow couldn't find nestle)"
   ]
  },
  {
   "cell_type": "code",
   "execution_count": 2,
   "metadata": {
    "collapsed": false
   },
   "outputs": [],
   "source": [
    "import numpy as np\n",
    "import nestle\n",
    "import math\n",
    "\n",
    "import matplotlib.pyplot as plt\n",
    "import matplotlib.animation as animation\n",
    "\n",
    "import corner\n",
    "\n",
    "from scipy.integrate import quad\n",
    "\n",
    "from nsdmd import model \n",
    "from nsdmd import dmdio\n",
    "\n",
    "import pandas as pd"
   ]
  },
  {
   "cell_type": "markdown",
   "metadata": {},
   "source": [
    "## load data and test data "
   ]
  },
  {
   "cell_type": "code",
   "execution_count": 3,
   "metadata": {
    "collapsed": false
   },
   "outputs": [],
   "source": [
    "# load fata \n",
    "data_x,data_xerr,data_y,data_yerr = dmdio.load_data('example_data.txt')\n"
   ]
  },
  {
   "cell_type": "markdown",
   "metadata": {},
   "source": [
    "Our raw data are obtained from Bhattacharjee et. al. 2014, Rotation Curve of the Milky Way out to ∼200 kpc (https://arxiv.org/abs/1310.2659)### The data will be used in this project is the measured rotational speed of the interstellar medium in our local galaxy, as shown in the following figure. "
   ]
  },
  {
   "cell_type": "code",
   "execution_count": 4,
   "metadata": {
    "collapsed": false
   },
   "outputs": [
    {
     "data": {
      "image/png": "[encoded data removed]",
      "text/plain": [
       "<matplotlib.figure.Figure at 0x11429f4a8>"
      ]
     },
     "metadata": {},
     "output_type": "display_data"
    }
   ],
   "source": [
    "plt.figure()\n",
    "plt.errorbar(data_x,data_y,data_yerr,data_xerr,fmt='*')\n",
    "plt.xlabel(\"r (kpc)\")\n",
    "plt.ylabel('V (km/s)')\n",
    "plt.title(\"The measured rotational speed of the interstellar medium as a fucntion of the galactocentric radius\")\n",
    "plt.show()"
   ]
  },
  {
   "cell_type": "markdown",
   "metadata": {},
   "source": [
    "### The log likelihood is meant to capture how well a model is able to reproduce the data that it is meant to simulate.\n",
    "\n",
    "$log p(D|M, I) = constant* \\prod_{i}^{} log(\\sigma_i)  \\sum_{i}{}(\\frac{(v_{icalculated} - v_{imeasured})^2}{2 \\sigma_i^2}) $\n",
    "\n",
    "$constant* \\prod_{i}^{} log(\\sigma_i) $, this part doesn't matter much since they are the same for all. \n",
    "\n",
    "$log p(D|M, I) =  \\sum_{i}{}(\\frac{(v_{icalculated} - v_{imeasured})^2}{2 \\sigma_i^2}) $"
   ]
  },
  {
   "cell_type": "code",
   "execution_count": 5,
   "metadata": {
    "collapsed": true
   },
   "outputs": [],
   "source": [
    "# Define model\n",
    "def model_NFW(theta, x):\n",
    "    \n",
    "    # Calculate the mass between 0 and data_x by integrating the NFW distribution.\n",
    "    #\n",
    "    # Note: the mass defined here does not include the normalization constant rho0 (kg/kpc^3).\n",
    "    # The units of a are kpc.\n",
    "    # The units of the \"mass\" calculated here are thus kpc^3.\n",
    "    a = theta[0]\n",
    "    mass = 4.*np.pi*(a**3)*(np.log((a+x)/a)-x/(a+x))\n",
    "        \n",
    "    # Calculate the rotation velocity: vrot = theta[1]*sqrt(mass/x)\n",
    "    # The units of sqrt(mass/x) are kpc.\n",
    "    # The rotation velocity is equal to sqrt(G*rho0)*sqrt((M/rho0)/x) where M is the mass enclosed, \n",
    "    # rho0 is the normalization constant of the mass distribution, and x is the distance at which we\n",
    "    # calculate vrot.\n",
    "    # When we determine theta[1], we determine sqrt(G*rho0).\n",
    "    # The units of vrot are km/s.\n",
    "    # The units of sqrt(mass/x) are kpc.\n",
    "    # The units of theta[1] are thus (km/s)/kpc = (10^3 m)/s/(3.086E19 m) = 3.24E-17 1/s.\n",
    "    # Since theta[1] = sqrt(G*rho0) we can now determine rho0: rho0 = theta[1]^2/G.\n",
    "    # The units on the right-hand side are: (3.24E-17 1/s)^2/(m^3/(kg s^2)) = (3.24E-17)^2 kg/(m^3)\n",
    "    # To convert from kg/m^3 to kg/kpc^3, we multiply by (3.086E19)^3\n",
    "    # The normalization constant rho0 is thus (theta1[1]^2)/6.67E-11 * ((3.24E-17)^2 * (3.086E19)^3 kg/(kpc)^3 = \n",
    "    # (theta1[1]^2)*4.625E35 kg/(kpc)^3 = 2.312E5 Msun/(kpc)^3.\n",
    "    vrot = theta[1]*np.sqrt(mass/x) \n",
    "    \n",
    "    return vrot"
   ]
  },
  {
   "cell_type": "code",
   "execution_count": 13,
   "metadata": {
    "collapsed": true
   },
   "outputs": [],
   "source": [
    "# Define a likelihood function\n",
    "def loglike_NFW(theta):\n",
    "    \n",
    "    # Calculate the mass between 0 and data_x by integrating the NFW distribution.\n",
    "    a = theta[0]\n",
    "    mass = 4.*np.pi*(a**3)*(np.log((a+data_x)/a-data_x/(a+data_x)))\n",
    "        \n",
    "    # Calculate the rotation velocity.\n",
    "    vrot = theta[1]*np.sqrt(mass/data_x) \n",
    "    \n",
    "    # The y variable is the rotational velocity.\n",
    "    y = vrot\n",
    "\n",
    "    # Calculate chisq\n",
    "    chisq= np.sum(((data_y - y) / data_yerr)**2)\n",
    "    return -chisq / 2.\n",
    "\n"
   ]
  },
  {
   "cell_type": "markdown",
   "metadata": {},
   "source": [
    "### The prior: \n",
    "uniform priors with constraints from literature. \n",
    "  "
   ]
  },
  {
   "cell_type": "code",
   "execution_count": 14,
   "metadata": {
    "collapsed": true
   },
   "outputs": [],
   "source": [
    "# It is a transformation from a space where variables are independently and uniformly distributed between 0 and 1 to the parameter space of interest. \n",
    "# \n",
    "\n",
    "\n",
    "def prior_transform_NFW(theta):\n",
    "    \n",
    "    # theta[0] in the range of [0,10] and theta[1] in the range of [0,300]\n",
    "    # return  np.array([10, 300]) * theta\n",
    "    return  np.array([10*theta[0],500*theta[1]])\n"
   ]
  },
  {
   "cell_type": "markdown",
   "metadata": {},
   "source": [
    "Therefore, we can calculated the posterior $ p(M|D,I) = \\frac{p(M|I) p(D|M, I)}{p(D|I)} $ and compare the posterior by MCMC and/or Nestle to do model comparison. \n",
    "\n",
    "By using the Nestle package, it will give us log evidence, numerical (sampling) error on logz, array of sample parameters, array of weights associated with each sampleand result.weights. "
   ]
  },
  {
   "cell_type": "code",
   "execution_count": 15,
   "metadata": {
    "collapsed": false
   },
   "outputs": [
    {
     "name": "stdout",
     "output_type": "stream",
     "text": [
      "log evidence\n",
      "-48.9230738431\n",
      "numerical (sampling) error on logz\n",
      "0.2547189667276142\n",
      "array of sample parameters\n",
      "[[   9.58722095  459.51632247]\n",
      " [   8.21079418  472.85766967]\n",
      " [   9.0781797   397.87330965]\n",
      " ..., \n",
      " [   1.97278211   67.88287005]\n",
      " [   2.14985624   60.78615175]\n",
      " [   2.23918146   57.98114811]]\n",
      "array of weights associated with each sample\n",
      "[  0.00000000e+000   0.00000000e+000   0.00000000e+000   0.00000000e+000\n",
      "   0.00000000e+000   0.00000000e+000   0.00000000e+000   0.00000000e+000\n",
      "   0.00000000e+000   0.00000000e+000   0.00000000e+000   0.00000000e+000\n",
      "   0.00000000e+000   0.00000000e+000   0.00000000e+000   0.00000000e+000\n",
      "   0.00000000e+000   0.00000000e+000   0.00000000e+000   0.00000000e+000\n",
      "   0.00000000e+000   0.00000000e+000   0.00000000e+000   0.00000000e+000\n",
      "   0.00000000e+000   0.00000000e+000   0.00000000e+000   0.00000000e+000\n",
      "   0.00000000e+000   0.00000000e+000   0.00000000e+000   0.00000000e+000\n",
      "   0.00000000e+000   0.00000000e+000   0.00000000e+000   0.00000000e+000\n",
      "   0.00000000e+000   0.00000000e+000   0.00000000e+000   0.00000000e+000\n",
      "   0.00000000e+000   0.00000000e+000   0.00000000e+000   0.00000000e+000\n",
      "   0.00000000e+000   0.00000000e+000   0.00000000e+000   0.00000000e+000\n",
      "   0.00000000e+000   0.00000000e+000   0.00000000e+000   0.00000000e+000\n",
      "   0.00000000e+000   0.00000000e+000   0.00000000e+000   0.00000000e+000\n",
      "   0.00000000e+000   0.00000000e+000   0.00000000e+000   0.00000000e+000\n",
      "   0.00000000e+000   0.00000000e+000   0.00000000e+000   0.00000000e+000\n",
      "   0.00000000e+000   0.00000000e+000   0.00000000e+000   0.00000000e+000\n",
      "   0.00000000e+000   0.00000000e+000   0.00000000e+000   0.00000000e+000\n",
      "   0.00000000e+000   0.00000000e+000   0.00000000e+000   0.00000000e+000\n",
      "   0.00000000e+000   0.00000000e+000   0.00000000e+000   0.00000000e+000\n",
      "   0.00000000e+000   0.00000000e+000   0.00000000e+000   0.00000000e+000\n",
      "   0.00000000e+000   0.00000000e+000   0.00000000e+000   0.00000000e+000\n",
      "   0.00000000e+000   0.00000000e+000   0.00000000e+000   0.00000000e+000\n",
      "   0.00000000e+000   0.00000000e+000   0.00000000e+000   0.00000000e+000\n",
      "   0.00000000e+000   0.00000000e+000   0.00000000e+000   0.00000000e+000\n",
      "   0.00000000e+000   0.00000000e+000   0.00000000e+000   0.00000000e+000\n",
      "   0.00000000e+000   0.00000000e+000   0.00000000e+000   0.00000000e+000\n",
      "   0.00000000e+000   0.00000000e+000   0.00000000e+000   0.00000000e+000\n",
      "   0.00000000e+000   0.00000000e+000   0.00000000e+000   0.00000000e+000\n",
      "   0.00000000e+000   0.00000000e+000   0.00000000e+000   0.00000000e+000\n",
      "   0.00000000e+000   0.00000000e+000   0.00000000e+000   0.00000000e+000\n",
      "   0.00000000e+000   0.00000000e+000   0.00000000e+000   0.00000000e+000\n",
      "   0.00000000e+000   0.00000000e+000   0.00000000e+000   0.00000000e+000\n",
      "   0.00000000e+000   0.00000000e+000   0.00000000e+000   0.00000000e+000\n",
      "   0.00000000e+000   0.00000000e+000   0.00000000e+000   0.00000000e+000\n",
      "   0.00000000e+000   0.00000000e+000   0.00000000e+000   0.00000000e+000\n",
      "   0.00000000e+000   0.00000000e+000   0.00000000e+000   0.00000000e+000\n",
      "   0.00000000e+000   0.00000000e+000   0.00000000e+000   0.00000000e+000\n",
      "   0.00000000e+000   0.00000000e+000   0.00000000e+000   0.00000000e+000\n",
      "   0.00000000e+000   0.00000000e+000   0.00000000e+000   0.00000000e+000\n",
      "   0.00000000e+000   0.00000000e+000   0.00000000e+000   0.00000000e+000\n",
      "   0.00000000e+000   0.00000000e+000   0.00000000e+000   0.00000000e+000\n",
      "   0.00000000e+000   0.00000000e+000   0.00000000e+000   0.00000000e+000\n",
      "   0.00000000e+000   0.00000000e+000   0.00000000e+000   0.00000000e+000\n",
      "   0.00000000e+000   0.00000000e+000   0.00000000e+000   0.00000000e+000\n",
      "   0.00000000e+000   0.00000000e+000   0.00000000e+000   0.00000000e+000\n",
      "   0.00000000e+000   0.00000000e+000   0.00000000e+000   0.00000000e+000\n",
      "   0.00000000e+000   0.00000000e+000   0.00000000e+000   0.00000000e+000\n",
      "   0.00000000e+000   0.00000000e+000   0.00000000e+000   0.00000000e+000\n",
      "   0.00000000e+000   0.00000000e+000   0.00000000e+000   0.00000000e+000\n",
      "   0.00000000e+000   0.00000000e+000   0.00000000e+000   0.00000000e+000\n",
      "   0.00000000e+000   0.00000000e+000   0.00000000e+000   0.00000000e+000\n",
      "   0.00000000e+000   0.00000000e+000   0.00000000e+000   0.00000000e+000\n",
      "   0.00000000e+000   0.00000000e+000   0.00000000e+000   0.00000000e+000\n",
      "   0.00000000e+000   0.00000000e+000   0.00000000e+000   0.00000000e+000\n",
      "   0.00000000e+000   0.00000000e+000   0.00000000e+000   0.00000000e+000\n",
      "   0.00000000e+000   0.00000000e+000   0.00000000e+000   0.00000000e+000\n",
      "   0.00000000e+000   0.00000000e+000   0.00000000e+000   0.00000000e+000\n",
      "   0.00000000e+000   0.00000000e+000   0.00000000e+000   0.00000000e+000\n",
      "   0.00000000e+000   0.00000000e+000   0.00000000e+000   0.00000000e+000\n",
      "   0.00000000e+000   0.00000000e+000   0.00000000e+000   0.00000000e+000\n",
      "   0.00000000e+000   0.00000000e+000   0.00000000e+000   0.00000000e+000\n",
      "   0.00000000e+000   0.00000000e+000   0.00000000e+000   0.00000000e+000\n",
      "   0.00000000e+000   0.00000000e+000   0.00000000e+000   0.00000000e+000\n",
      "   0.00000000e+000   4.54540394e-322   1.42488532e-318   8.64548720e-315\n",
      "   1.48279481e-312   1.59803781e-306   2.05837569e-297   1.51934221e-281\n",
      "   7.26793124e-275   8.56080201e-268   2.25685282e-266   3.21897586e-249\n",
      "   9.90621896e-240   9.90079015e-240   1.67450057e-231   2.77454225e-229\n",
      "   1.10079979e-227   9.43649016e-219   2.80903055e-218   4.97572493e-217\n",
      "   5.44361952e-217   2.69688294e-204   2.66842905e-200   9.03279373e-199\n",
      "   3.66272064e-192   5.03866456e-188   6.89507666e-187   2.02129748e-185\n",
      "   2.82026030e-185   8.41237053e-178   2.18097911e-175   3.50769676e-174\n",
      "   5.69060770e-172   1.89324588e-171   6.13120471e-161   7.85549806e-160\n",
      "   8.92636692e-150   1.86574075e-138   9.87265851e-138   5.09916067e-137\n",
      "   1.15801651e-134   2.01422477e-134   4.95999771e-134   7.44290789e-125\n",
      "   1.45573130e-123   1.86538167e-122   1.58074111e-121   1.25916298e-115\n",
      "   1.62569555e-115   1.29905976e-109   7.70940842e-109   9.06790508e-109\n",
      "   1.13965635e-107   6.47049234e-104   2.79943355e-099   4.40252564e-098\n",
      "   3.59052749e-096   9.12098065e-096   2.88218428e-092   5.36829062e-088\n",
      "   5.71186783e-088   1.50919121e-085   1.69536206e-085   4.83285785e-085\n",
      "   1.25171724e-084   7.98812017e-084   8.60414560e-082   1.89853977e-079\n",
      "   3.54100526e-079   4.60958617e-079   6.27079345e-078   7.18076670e-071\n",
      "   6.51789701e-068   7.12576456e-068   1.51659805e-064   2.01510318e-062\n",
      "   5.08894237e-062   3.37055257e-058   5.89385595e-055   1.47870871e-052\n",
      "   1.76354883e-052   3.31246120e-052   1.59332761e-051   2.83329571e-051\n",
      "   1.75040139e-047   1.06492030e-045   1.65236086e-044   2.99824579e-044\n",
      "   5.93713569e-043   6.55934425e-043   7.54289848e-043   3.95106413e-042\n",
      "   3.52707296e-041   2.23866657e-040   2.39865445e-040   7.42727243e-040\n",
      "   4.39795278e-039   4.77334918e-039   1.12764122e-038   1.34119787e-038\n",
      "   3.17278899e-038   3.20998670e-038   6.14611748e-038   6.43839884e-035\n",
      "   1.07294831e-034   1.68541754e-034   1.63031834e-033   2.48156315e-033\n",
      "   2.52962237e-032   3.46551503e-032   6.25811132e-032   1.37861298e-031\n",
      "   2.28363974e-031   7.33041315e-031   7.43603759e-031   9.63195483e-031\n",
      "   2.94224110e-030   6.06778246e-030   1.52496965e-029   1.97290023e-029\n",
      "   6.94299491e-029   1.36620752e-028   4.55918920e-028   6.65161857e-028\n",
      "   2.76488280e-027   3.61408100e-026   4.76793270e-025   6.24517024e-025\n",
      "   2.11349573e-023   3.29085150e-023   5.36201428e-023   1.86045971e-022\n",
      "   1.87784048e-022   1.90257887e-022   4.51581670e-022   4.90426010e-022\n",
      "   8.08559982e-022   1.39706540e-021   1.79386752e-021   1.79185578e-021\n",
      "   2.03474338e-021   5.06540732e-021   5.57769288e-021   6.91697952e-021\n",
      "   1.45837319e-020   1.77413216e-020   3.94731972e-020   1.04462280e-019\n",
      "   1.21535514e-019   2.04733096e-019   2.51064116e-019   6.33310199e-019\n",
      "   7.24823567e-019   9.19601649e-019   1.04537714e-018   1.17286989e-018\n",
      "   1.56758295e-018   4.00049054e-018   7.37348326e-018   2.90698459e-017\n",
      "   4.30456493e-017   1.41209437e-016   3.32578361e-016   4.65979068e-016\n",
      "   3.35660795e-015   4.84351472e-015   4.82995873e-015   1.81165628e-014\n",
      "   2.02960756e-014   3.75886311e-014   3.88084499e-014   3.98829810e-014\n",
      "   4.72610721e-014   5.20860237e-014   6.97971989e-014   1.24143695e-013\n",
      "   1.47093422e-013   1.96823787e-013   1.99073099e-013   2.28521674e-013\n",
      "   3.78294766e-013   6.88861664e-013   8.03552319e-013   1.02010601e-012\n",
      "   1.09867309e-012   1.67337639e-012   1.70238655e-012   2.85052027e-012\n",
      "   3.94860418e-012   1.73875376e-011   1.75839891e-011   1.74137381e-011\n",
      "   1.80137375e-011   2.26724092e-011   4.61895733e-011   6.05321482e-011\n",
      "   8.82070969e-011   9.38635558e-011   1.09274076e-010   1.30239307e-010\n",
      "   1.73232169e-010   1.83359462e-010   1.86764840e-010   2.05078338e-010\n",
      "   2.77793746e-010   3.26445126e-010   4.13969685e-010   8.24085041e-010\n",
      "   1.14148432e-009   1.45985023e-009   2.14376106e-009   2.16243776e-009\n",
      "   2.72385359e-009   3.58922863e-009   3.63964559e-009   4.27655784e-009\n",
      "   5.34836871e-009   6.05647775e-009   6.80502158e-009   7.55941823e-009\n",
      "   8.32596872e-009   8.30326109e-009   1.15777672e-008   1.22374897e-008\n",
      "   1.35603978e-008   3.87830442e-008   5.18503139e-008   5.86799272e-008\n",
      "   6.06172853e-008   6.97995134e-008   7.60116998e-008   9.80390482e-008\n",
      "   1.81336355e-007   2.07699368e-007   2.56922975e-007   3.06657447e-007\n",
      "   5.18176073e-007   6.12465276e-007   6.51706327e-007   1.12499470e-006\n",
      "   1.48434017e-006   1.68430244e-006   1.72669366e-006   1.75148904e-006\n",
      "   1.93886230e-006   2.08101040e-006   2.99341571e-006   3.13308730e-006\n",
      "   3.35116539e-006   3.54121346e-006   4.38484190e-006   4.34877260e-006\n",
      "   4.33610152e-006   5.98901346e-006   6.23729590e-006   7.54931302e-006\n",
      "   9.28133011e-006   9.45115709e-006   9.51242139e-006   1.00901669e-005\n",
      "   1.08294506e-005   1.09088721e-005   1.28635394e-005   1.43926087e-005\n",
      "   1.43218351e-005   1.61080977e-005   1.69924395e-005   2.10952402e-005\n",
      "   2.26541001e-005   2.25727248e-005   2.56335864e-005   3.04352453e-005\n",
      "   3.05823719e-005   3.61556952e-005   3.69477659e-005   4.12783211e-005\n",
      "   4.17310945e-005   4.94385319e-005   5.19706035e-005   5.42204761e-005\n",
      "   5.56656785e-005   5.95374939e-005   6.57268738e-005   7.01188062e-005\n",
      "   7.01533127e-005   7.51305808e-005   7.64666197e-005   7.95967440e-005\n",
      "   7.88142640e-005   8.10996589e-005   8.47935557e-005   9.52985175e-005\n",
      "   9.53661752e-005   1.04415362e-004   1.08799442e-004   1.07902744e-004\n",
      "   1.07544336e-004   1.14695260e-004   1.30305212e-004   1.34298627e-004\n",
      "   1.33719121e-004   1.32428159e-004   1.35786941e-004   1.39364424e-004\n",
      "   1.55355534e-004   1.61120603e-004   1.78793316e-004   1.77176743e-004\n",
      "   1.75860179e-004   1.78581611e-004   1.81397915e-004   1.86539709e-004\n",
      "   1.85663166e-004   1.86819633e-004   1.88098841e-004   1.88150151e-004\n",
      "   1.94725924e-004   1.98556002e-004   2.38741766e-004   2.72805407e-004\n",
      "   2.70257523e-004   2.72004388e-004   2.75177672e-004   2.85525955e-004\n",
      "   2.85009751e-004   2.87818257e-004   2.85951359e-004   2.91011469e-004\n",
      "   3.18522442e-004   3.21659256e-004   3.45774157e-004   3.54081833e-004\n",
      "   3.58533481e-004   3.55377848e-004   3.71999230e-004   3.72827214e-004\n",
      "   3.99702411e-004   4.03331467e-004   4.26201154e-004   4.30471303e-004\n",
      "   4.36329901e-004   4.36299243e-004   4.86189607e-004   4.92207039e-004\n",
      "   4.88100042e-004   4.93626965e-004   5.28516409e-004   5.85955861e-004\n",
      "   5.84870617e-004   5.87065005e-004   5.81792378e-004   5.78111718e-004\n",
      "   5.88499692e-004   6.02101532e-004   6.39044052e-004   6.56961995e-004\n",
      "   7.14253821e-004   7.08619044e-004   7.13906376e-004   7.58589555e-004\n",
      "   7.51963463e-004   7.78155137e-004   7.98402951e-004   8.11301004e-004\n",
      "   8.27713053e-004   9.17136416e-004   9.79656328e-004   1.06686977e-003\n",
      "   1.11438539e-003   1.11451926e-003   1.13271027e-003   1.14602119e-003\n",
      "   1.29795817e-003   1.30063867e-003   1.31783871e-003   1.34828246e-003\n",
      "   1.33530371e-003   1.33948724e-003   1.36645235e-003   1.37803988e-003\n",
      "   1.39106925e-003   1.43438494e-003   1.42518756e-003   1.45370867e-003\n",
      "   1.47177292e-003   1.61236179e-003   1.69115276e-003   1.72041037e-003\n",
      "   1.76561614e-003   1.75491363e-003   1.76034038e-003   1.81671752e-003\n",
      "   1.80490937e-003   1.80624875e-003   1.80010458e-003   1.87647118e-003\n",
      "   1.88369194e-003   1.93561217e-003   1.96603784e-003   1.98470866e-003\n",
      "   2.09293320e-003   2.10695015e-003   2.10560357e-003   2.15589988e-003\n",
      "   2.15488386e-003   2.16368221e-003   2.14821073e-003   2.16408067e-003\n",
      "   2.17434622e-003   2.17859258e-003   2.34426226e-003   2.37349508e-003\n",
      "   2.39800552e-003   2.38956063e-003   2.37252773e-003   2.35775241e-003\n",
      "   2.34066693e-003   2.34526868e-003   2.37969263e-003   2.39573571e-003\n",
      "   2.40353431e-003   2.44673598e-003   2.48442759e-003   2.47233403e-003\n",
      "   2.67121678e-003   2.66082038e-003   2.66253924e-003   2.65025450e-003\n",
      "   2.65757806e-003   2.65623966e-003   2.66382506e-003   2.64302286e-003\n",
      "   2.65231980e-003   2.64423461e-003   2.64155139e-003   2.63920934e-003\n",
      "   2.66178399e-003   2.82387443e-003   2.81640129e-003   2.81348546e-003\n",
      "   2.85063132e-003   2.99613939e-003   3.01273260e-003   3.01066156e-003\n",
      "   3.04169441e-003   3.03386831e-003   3.31712007e-003   3.29924783e-003\n",
      "   3.32092366e-003   3.29957239e-003   3.27974435e-003   3.34247498e-003\n",
      "   3.32793706e-003   3.30459779e-003   3.27847773e-003   3.35870148e-003\n",
      "   3.35919569e-003   3.35803977e-003   3.50218313e-003   3.51853997e-003\n",
      "   3.59000382e-003   3.66609384e-003   3.63014247e-003   3.60681672e-003\n",
      "   3.57730876e-003   3.65013498e-003   3.66591524e-003   3.62998730e-003\n",
      "   3.63578093e-003   3.75177932e-003   3.71866983e-003   3.68956609e-003\n",
      "   3.69609631e-003   3.69118252e-003   3.67993193e-003   3.71455565e-003\n",
      "   3.69933243e-003   3.67034217e-003   3.73293327e-003   3.72186720e-003\n",
      "   3.70642294e-003   3.76704268e-003   3.76665617e-003   3.73121950e-003\n",
      "   3.70435570e-003   3.68589129e-003   3.68375406e-003   3.65300507e-003\n",
      "   3.64553790e-003   3.72094151e-003   3.75913000e-003   3.72698239e-003\n",
      "   3.71103932e-003   3.69255631e-003   3.68041741e-003   3.66712661e-003\n",
      "   3.66293029e-003   3.68107229e-003   3.66479036e-003   3.64160071e-003\n",
      "   3.65050176e-003   3.66099045e-003   3.64952283e-003   3.65034018e-003\n",
      "   3.66105500e-003   3.62813840e-003   3.63916744e-003   3.60385646e-003\n",
      "   3.60486830e-003   3.58037782e-003   3.54902425e-003   3.52061260e-003\n",
      "   3.48791493e-003   3.49980193e-003   3.47597099e-003   3.56148831e-003\n",
      "   3.53737426e-003   3.50584689e-003   3.49838068e-003   3.49124769e-003\n",
      "   3.50837288e-003   3.50480256e-003   3.47811960e-003   3.47766291e-003\n",
      "   3.49525967e-003   3.58531097e-003   3.55282095e-003   3.52604687e-003\n",
      "   3.49815648e-003   3.51359004e-003   3.47956102e-003   3.52050312e-003\n",
      "   3.50165139e-003   3.48280075e-003   3.45497226e-003   3.43905460e-003\n",
      "   3.42421904e-003   3.43508894e-003   3.40104287e-003   3.40048795e-003\n",
      "   3.37645056e-003   3.34545392e-003   3.32942644e-003   3.30971902e-003\n",
      "   3.28466364e-003   3.26836767e-003   3.23963640e-003   3.20750028e-003\n",
      "   3.19022575e-003   3.19359437e-003   3.16879944e-003   3.15378621e-003\n",
      "   3.13127358e-003   3.10445935e-003   3.08385686e-003   3.06163159e-003\n",
      "   3.03718644e-003   3.03914617e-003   3.02069205e-003   3.01853742e-003\n",
      "   3.02556736e-003   2.99719047e-003   2.97881082e-003   2.95088051e-003\n",
      "   2.92216651e-003   2.93305388e-003   2.92197260e-003   2.89640736e-003\n",
      "   2.86948428e-003   2.87035325e-003   2.87119482e-003   2.84762390e-003\n",
      "   2.82808775e-003   2.80809581e-003   2.78396896e-003   2.75904009e-003\n",
      "   2.74593577e-003   2.72139271e-003   2.70614791e-003   2.68883934e-003\n",
      "   2.66908609e-003   2.64286302e-003   2.62417937e-003   2.60163222e-003\n",
      "   2.58028351e-003   3.05739520e-003   3.82064730e-003   3.91357885e-003\n",
      "   2.73651495e-003   2.94853007e-003   3.10584055e-003   3.16822010e-003\n",
      "   3.60728003e-003   2.61387229e-003   3.52404378e-003   4.05066451e-003\n",
      "   3.05135758e-003   3.55179089e-003   4.06411334e-003   2.68664247e-003\n",
      "   2.63387072e-003   2.62703649e-003   3.08160790e-003   3.60853869e-003\n",
      "   3.06300763e-003   3.58597894e-003   3.61597283e-003   3.87015077e-003\n",
      "   2.95587990e-003   3.20197046e-003   3.71636467e-003   3.17960276e-003\n",
      "   2.69242270e-003   2.92186816e-003   2.75302216e-003   4.20465806e-003\n",
      "   2.85161074e-003   2.65597870e-003   2.60250080e-003   3.10826403e-003\n",
      "   2.58125516e-003   3.49796687e-003   2.74542464e-003   3.46516411e-003\n",
      "   2.88789649e-003   2.75102316e-003   2.69368755e-003   3.13787433e-003\n",
      "   3.50617228e-003   4.09379668e-003   3.66015428e-003   2.98351032e-003\n",
      "   2.60110328e-003   3.43647563e-003   2.95339763e-003   3.76368685e-003\n",
      "   2.98893068e-003   3.20636904e-003   3.46596025e-003   4.17132540e-003\n",
      "   3.17348818e-003   4.21278936e-003   3.62589839e-003   3.21925096e-003\n",
      "   4.22082134e-003   3.42455115e-003   3.16785826e-003   2.59767244e-003\n",
      "   3.57897535e-003   2.88742063e-003   3.66276967e-003   3.91847601e-003\n",
      "   3.28682242e-003   3.32241899e-003   3.80505109e-003   3.45100747e-003\n",
      "   3.92880026e-003   2.96834270e-003   4.04806643e-003   2.86783061e-003\n",
      "   3.75217339e-003   3.61491330e-003   2.59568359e-003   3.56991522e-003\n",
      "   2.98513265e-003   3.32859419e-003   4.00243216e-003   3.24634156e-003\n",
      "   3.47147129e-003   4.08008772e-003   3.92946257e-003   4.09120278e-003\n",
      "   2.94879789e-003   3.58067386e-003   4.04162715e-003   4.09776531e-003\n",
      "   3.90153674e-003   2.89546930e-003   2.73874017e-003   3.11683982e-003\n",
      "   3.62042464e-003   3.35175722e-003   3.67054634e-003   3.86228535e-003\n",
      "   2.78386700e-003]\n"
     ]
    }
   ],
   "source": [
    "# Run nested sampling.\n",
    "result = nestle.sample(loglike_NFW, prior_transform_NFW, 2)\n",
    "\n",
    "print ('log evidence')\n",
    "print (result.logz)\n",
    "\n",
    "print ('numerical (sampling) error on logz')\n",
    "print (result.logzerr)   \n",
    "       \n",
    "print ('array of sample parameters')\n",
    "print (result.samples)  \n",
    "       \n",
    "print ('array of weights associated with each sample')\n",
    "print (result.weights)\n"
   ]
  },
  {
   "cell_type": "code",
   "execution_count": 9,
   "metadata": {
    "collapsed": false
   },
   "outputs": [
    {
     "name": "stdout",
     "output_type": "stream",
     "text": [
      "core radius a =  2.17 +/-  0.57 kpc\n",
      "normalization factor = 67.68 +/- 30.40\n",
      "Halo density normalization constant = 1.56e+07 +/- 7.03e+06 Msun/kpc^3\n",
      "Halo density in our solor system = 5.45e+07 Msun/kpc^3.\n",
      "Halo density in our solor system = 2.08e+03 GeV/c^2/liter.\n"
     ]
    },
    {
     "data": {
      "image/png": "[encoded data removed]",
      "text/plain": [
       "<matplotlib.figure.Figure at 0x116bde080>"
      ]
     },
     "metadata": {},
     "output_type": "display_data"
    },
    {
     "data": {
      "image/png": "[encoded data removed]",
      "text/plain": [
       "<matplotlib.figure.Figure at 0x116daa908>"
      ]
     },
     "metadata": {},
     "output_type": "display_data"
    }
   ],
   "source": [
    "data_xerr = 0\n",
    "p, cov = nestle.mean_and_cov(result.samples, result.weights)\n",
    "\n",
    "print(\"core radius a = {0:5.2f} +/- {1:5.2f} kpc\".format(p[0], np.sqrt(cov[0, 0])))\n",
    "print(\"normalization factor = {0:5.2f} +/- {1:5.2f}\".format(p[1], np.sqrt(cov[1, 1])))\n",
    "print(\"Halo density normalization constant = {0:5.2e} +/- {1:5.2e} Msun/kpc^3\".format(2.312E5*p[1], 2.312E5*np.sqrt(cov[1, 1])))\n",
    "\n",
    "# Note: in order to convert the model to units of Msun/kpc^3 we multiply its value by 2.312E5.\n",
    "# See comments in the model definition for details.\n",
    "print(\"Halo density in our solor system = {0:5.2e} Msun/kpc^3.\".format(2.312E5*model_NFW(p, 8)))\n",
    "\n",
    "# Note: 1 Msun/kpc^3 = 3.817E-2 (GeV/c^2)/m^3 = 3.817E-5 (GeV/c^2)/(dm^3)\n",
    "# 1 dm^3 = 1 liter.\n",
    "# 3 WIMPS/liter would be 300 GeV/c^2/liter\n",
    "print(\"Halo density in our solor system = {0:5.2e} GeV/c^2/liter.\".format(3.817E-5*2.312E5*model_NFW(p, 8)))\n",
    "\n",
    "plt.figure()\n",
    "plt.errorbar(data_x,data_y,data_yerr,data_xerr,fmt='*')\n",
    "plt.xlabel(\"r (kpc)\")\n",
    "plt.ylabel('V (km/s)')\n",
    "plt.title(\"The measured rotational speed of the interstellar medium as a fucntion of the galactocentric radius\")\n",
    "plt.plot([5.,200.],model_NFW(p, np.array([5.,200.])))\n",
    "plt.show()\n",
    "\n",
    "fig = corner.corner(result.samples, weights=result.weights, labels=['a', 'rho0'],\n",
    "                    range=[0.99999, 0.99999], bins=30)\n",
    "plt.show()"
   ]
  },
  {
   "cell_type": "markdown",
   "metadata": {},
   "source": [
    "## (1) test model in terminal by running \"python textdmdcode.py\"\n",
    "\n",
    "run test code in terminal and get the output as following"
   ]
  },
  {
   "cell_type": "markdown",
   "metadata": {},
   "source": [
    "\"\n",
    "\n",
    "Junes-MacBook:NestedSampling_DMD june$ python textdmdcode.py\n",
    "...\n",
    "----------------------------------------------------------------------\n",
    "Ran 3 tests in 0.004s\n",
    "\n",
    "OK\n",
    "\n",
    "\""
   ]
  },
  {
   "cell_type": "markdown",
   "metadata": {},
   "source": [
    "Therefore, model works as intended "
   ]
  },
  {
   "cell_type": "markdown",
   "metadata": {},
   "source": [
    "## (2) test model in terminal by \"nosetests\"\n",
    "\n"
   ]
  },
  {
   "cell_type": "markdown",
   "metadata": {},
   "source": [
    "\"\n",
    "\n",
    "Junes-MacBook:NestedSampling_DMD june$ nosetests\n",
    "\n",
    "----------------------------------------------------------------------\n",
    "Ran 0 tests in 0.001s\n",
    "\n",
    "OK\n",
    "\n",
    "\""
   ]
  }
 ],
 "metadata": {
  "anaconda-cloud": {},
  "kernelspec": {
   "display_name": "Python [conda root]",
   "language": "python",
   "name": "conda-root-py"
  },
  "language_info": {
   "codemirror_mode": {
    "name": "ipython",
    "version": 3
   },
   "file_extension": ".py",
   "mimetype": "text/x-python",
   "name": "python",
   "nbconvert_exporter": "python",
   "pygments_lexer": "ipython3",
   "version": "3.5.2"
  }
 },
 "nbformat": 4,
 "nbformat_minor": 2
}
