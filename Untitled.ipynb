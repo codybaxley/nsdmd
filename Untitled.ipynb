{
 "cells": [
  {
   "cell_type": "code",
   "execution_count": 21,
   "metadata": {
    "collapsed": false
   },
   "outputs": [],
   "source": [
    "import unittest\n",
    "\n",
    "\n",
    "from nsdmd import model\n",
    "from nsdmd import dmdio\n",
    "\n",
    "import os\n",
    "\n",
    "\n",
    "\n",
    "class TestFunctions(unittest.TestCase):\n",
    "    def test_io(self):\n",
    "        filename = 'example_data.txt'\n",
    "        testdata = dmdio.load_data(filename)\n",
    "        self.assertTrue(issubclass(type(testdata), np.ndarray))\n",
    "        \n",
    "        \n",
    "        \n",
    "    def test_model_NFW(self):\n",
    "        \n",
    "        theta_range = np.linspace(0,0.1,3)\n",
    "        \n",
    "        for i in rannge(len(theta_range)):\n",
    "            vrot[i]=model.model_NFW(theta,x)\n",
    "        self.assertTrue(np.argmax(vrot)>0 and np.argmax(vrot) <1000)\n",
    "        \n",
    "        \n",
    "        \n",
    "        \n",
    "    def test_loglike_NFW(self):\n",
    "                \n",
    "        theta0_range = np.linspace(0,0.1,3)\n",
    "        theta1_range = np.linspace(0,0.1,3)\n",
    "\n",
    "\n",
    "        for i in rannge(len(theta0_range)):\n",
    "            for j in rannge(len(theta1_range)):\n",
    "                \n",
    "                theta = theta0, theta1 \n",
    "                minusChiSq = model.prior_loglike_NFW(theta)\n",
    "                \n",
    "        self.assertTrue(np.argmax(minusChiSq)<0)\n",
    "        \n",
    "        \n",
    "\n",
    "        \n",
    "    def test_prior_transform_NFW(self):\n",
    "        testdata = dmdio.load_data('example_data.txt')\n",
    "        theta0_range = np.linspace(0,0.1,3)\n",
    "        theta1_range = np.linspace(0,0.1,3)\n",
    "\n",
    "\n",
    "        for i in rannge(len(theta0_range)):\n",
    "            for j in rannge(len(theta1_range)):\n",
    "                \n",
    "                theta = theta0, theta1 \n",
    "\n",
    "                priorRange= model.prior_transform_NFW(theta)\n",
    "            \n",
    "        self.assertTrue(np.argmax(priorRange)<1000 and np.argmax(priorRange)>1000 )\n"
   ]
  },
  {
   "cell_type": "code",
   "execution_count": null,
   "metadata": {
    "collapsed": true
   },
   "outputs": [],
   "source": []
  }
 ],
 "metadata": {
  "anaconda-cloud": {},
  "kernelspec": {
   "display_name": "Python [conda root]",
   "language": "python",
   "name": "conda-root-py"
  },
  "language_info": {
   "codemirror_mode": {
    "name": "ipython",
    "version": 3
   },
   "file_extension": ".py",
   "mimetype": "text/x-python",
   "name": "python",
   "nbconvert_exporter": "python",
   "pygments_lexer": "ipython3",
   "version": "3.5.2"
  }
 },
 "nbformat": 4,
 "nbformat_minor": 2
}
