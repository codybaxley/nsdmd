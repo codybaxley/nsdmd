{
 "cells": [
  {
   "cell_type": "code",
   "execution_count": 15,
   "metadata": {
    "collapsed": false
   },
   "outputs": [],
   "source": [
    "import unittest\n",
    "\n",
    "\n",
    "from nsdmd import model\n",
    "from nsdmd import dmdio\n",
    "\n",
    "import os\n",
    "\n",
    "\n",
    "\n",
    "class TestFunctions(unittest.TestCase):\n",
    "    def test_io(self):\n",
    "        filename = 'example_data.txt'\n",
    "        testdata = dmdio.load_data(filename)\n",
    "        self.assertTrue(issubclass(type(testdata), np.ndarray))\n",
    "        \n",
    "        \n",
    "    def text_likelihood(self):\n",
    "        testdata = dmdio.load_data('example_data.txt')\n",
    "        theta_range = np.linspace(0,0.1,3)\n",
    "        \n",
    "        for i in rannge(len(theta_range)):\n",
    "            vrot[i]=model.model_NFW(theta,x)\n",
    "        self.assertTrue(vrot < 1000 and vrot >-1000 )\n",
    "\n",
    "            \n",
    "            \n",
    "            \n",
    "            \n"
   ]
  },
  {
   "cell_type": "code",
   "execution_count": null,
   "metadata": {
    "collapsed": true
   },
   "outputs": [],
   "source": []
  }
 ],
 "metadata": {
  "anaconda-cloud": {},
  "kernelspec": {
   "display_name": "Python [conda root]",
   "language": "python",
   "name": "conda-root-py"
  },
  "language_info": {
   "codemirror_mode": {
    "name": "ipython",
    "version": 3
   },
   "file_extension": ".py",
   "mimetype": "text/x-python",
   "name": "python",
   "nbconvert_exporter": "python",
   "pygments_lexer": "ipython3",
   "version": "3.5.2"
  }
 },
 "nbformat": 4,
 "nbformat_minor": 2
}
