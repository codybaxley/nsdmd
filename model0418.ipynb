{
 "cells": [
  {
   "cell_type": "markdown",
   "metadata": {},
   "source": [
    "### In this project, we will do model comparison on four Dark Matter density profiles. We will test which models fits the galaxy rotational curve best."
   ]
  },
  {
   "cell_type": "markdown",
   "metadata": {},
   "source": [
    "### Model\n",
    "Model \n",
    "\n",
    "$ M $ = The rotational curve calculated with the existence of dark matter and the dark matter density is given by the density profile. We have four dark matter density files and give us 4 models to compare. \n",
    "\n",
    "The posterior distribution is calculated as, $ p(M|D,I) = \\frac{p(M|I) p(D|M, I)}{p(D|I)} $"
   ]
  },
  {
   "cell_type": "markdown",
   "metadata": {},
   "source": [
    "\n",
    "\n",
    "### The four Dark Matter density profiles models: \n",
    "\n",
    "Note that\n",
    "\n",
    "r: galactocentric radius\n",
    "\n",
    "$ \\rho( r ) $ : Dark Matter Density as a function of galactocentric radius"
   ]
  },
  {
   "cell_type": "markdown",
   "metadata": {},
   "source": [
    "\n",
    "### (1) NFW profile :\n",
    "\n",
    " $ \\rho \\left( r \\right) \\propto \\frac{1}{{\\left( r/a \\right)}{\\left[ 1~+~{{\\left( r/a \\right)}} \\right]}^{2}} $\n",
    "\n",
    "\n",
    "### (2) Isothermal profile:\n",
    "\n",
    "  $  \\rho \\left( r \\right) \\propto \\frac{1}{{\\left[ 1~+~{{\\left( r/a \\right)}^{2}} \\right]}} $\n",
    "\n",
    "\n",
    "### (3) Einasto profile :\n",
    "\n",
    " $ \\rho \\left( r \\right) \\propto \\exp^{- A r ^\\alpha} $\n",
    "\n",
    "\n",
    "### (4) Generalized DM profile :\n",
    "\n",
    " $ \\rho \\left( r \\right) \\propto    \\frac{1}{{\\left( r/a \\right)}^{\\gamma}{\\left[ 1~+~{{\\left( r/a \\right)}^{\\alpha}} \\right]}^{ \\frac{(\\beta - \\gamma)}{\\alpha}}} $\n",
    "\n"
   ]
  },
  {
   "cell_type": "markdown",
   "metadata": {},
   "source": [
    "### We can calcuate rotational curve from Dark Matter density profiles, by assuming dark matter distribution is spherically symmetric"
   ]
  },
  {
   "cell_type": "markdown",
   "metadata": {},
   "source": [
    "$ \\frac{GMm}{4 \\pi  R^2} = \\frac {m v^2}{R}$  where $M=\\int_{R_o}^{R} \\rho (r) 4 \\pi  R^2 dr$"
   ]
  },
  {
   "cell_type": "markdown",
   "metadata": {},
   "source": [
    "$v_{calculated} = \\sqrt { \\frac{ G   \\int_{R_o}^{R} \\rho (r) 4 \\pi  r^2 dr} {4 \\pi  r}  }   $"
   ]
  },
  {
   "cell_type": "code",
   "execution_count": null,
   "metadata": {
    "collapsed": true
   },
   "outputs": [],
   "source": []
  },
  {
   "cell_type": "code",
   "execution_count": 2,
   "metadata": {
    "collapsed": true
   },
   "outputs": [],
   "source": [
    "  #  !!!! pip install nestle  (from terminal)\n",
    "    \n",
    "# !conda install -y -c conda-forge nestle (somehow couldn't find nestle)"
   ]
  },
  {
   "cell_type": "code",
   "execution_count": 3,
   "metadata": {
    "collapsed": false
   },
   "outputs": [],
   "source": [
    "import numpy as np\n",
    "import nestle\n",
    "import math\n",
    "\n",
    "import matplotlib.pyplot as plt\n",
    "import matplotlib.animation as animation\n",
    "\n",
    "import corner\n",
    "\n",
    "from scipy.integrate import quad\n",
    "\n",
    "from nsdmd import model \n",
    "from nsdmd import io\n",
    "\n",
    "import pandas as pd"
   ]
  },
  {
   "cell_type": "markdown",
   "metadata": {},
   "source": [
    "## load data and test data "
   ]
  },
  {
   "cell_type": "code",
   "execution_count": 16,
   "metadata": {
    "collapsed": false
   },
   "outputs": [
    {
     "data": {
      "text/plain": [
       "array([  13.44,   11.71,   17.5 ,   15.57,   25.6 ,   25.27,  101.18,\n",
       "          6.74,   11.54,    9.16,    6.65,    6.93,    6.62,   11.73,\n",
       "         14.12,    5.92,   17.17,   11.23,   24.72,   17.63,   23.58,\n",
       "         19.57,   24.35,   29.81,   25.67,   36.27,   40.89,   40.89,\n",
       "         74.37,   66.53,   36.46,   29.49,   67.23,   72.86,   40.99,\n",
       "         53.17,   25.46,   37.32])"
      ]
     },
     "execution_count": 16,
     "metadata": {},
     "output_type": "execute_result"
    }
   ],
   "source": [
    "# load fata \n",
    "data_x,data_xerr,data_y,data_yerr = io.load_data('example_data.txt')\n",
    "data_yerr\n"
   ]
  },
  {
   "cell_type": "markdown",
   "metadata": {},
   "source": [
    "Our raw data are obtained from Bhattacharjee et. al. 2014, Rotation Curve of the Milky Way out to ∼200 kpc (https://arxiv.org/abs/1310.2659)### The data will be used in this project is the measured rotational speed of the interstellar medium in our local galaxy, as shown in the following figure. "
   ]
  },
  {
   "cell_type": "code",
   "execution_count": 5,
   "metadata": {
    "collapsed": false
   },
   "outputs": [
    {
     "data": {
      "image/png": "[encoded data removed]",
      "text/plain": [
       "<matplotlib.figure.Figure at 0x114ad80f0>"
      ]
     },
     "metadata": {},
     "output_type": "display_data"
    }
   ],
   "source": [
    "plt.figure()\n",
    "plt.errorbar(data_x,data_y,data_yerr,data_xerr,fmt='*')\n",
    "plt.xlabel(\"r (kpc)\")\n",
    "plt.ylabel('V (km/s)')\n",
    "plt.title(\"The measured rotational speed of the interstellar medium as a fucntion of the galactocentric radius\")\n",
    "plt.show()"
   ]
  },
  {
   "cell_type": "markdown",
   "metadata": {},
   "source": [
    "### The log likelihood is meant to capture how well a model is able to reproduce the data that it is meant to simulate.\n",
    "\n",
    "$log p(D|M, I) = constant* \\prod_{i}^{} log(\\sigma_i)  \\sum_{i}{}(\\frac{(v_{icalculated} - v_{imeasured})^2}{2 \\sigma_i^2}) $\n",
    "\n",
    "$constant* \\prod_{i}^{} log(\\sigma_i) $, this part doesn't matter much since they are the same for all. \n",
    "\n",
    "$log p(D|M, I) =  \\sum_{i}{}(\\frac{(v_{icalculated} - v_{imeasured})^2}{2 \\sigma_i^2}) $"
   ]
  },
  {
   "cell_type": "code",
   "execution_count": 6,
   "metadata": {
    "collapsed": true
   },
   "outputs": [],
   "source": [
    "# Define model\n",
    "def model_NFW(theta, x):\n",
    "    \n",
    "    # Calculate the mass between 0 and data_x by integrating the NFW distribution.\n",
    "    #\n",
    "    # Note: the mass defined here does not include the normalization constant rho0 (kg/kpc^3).\n",
    "    # The units of a are kpc.\n",
    "    # The units of the \"mass\" calculated here are thus kpc^3.\n",
    "    a = theta[0]\n",
    "    mass = 4.*np.pi*(a**3)*(np.log((a+x)/a)-x/(a+x))\n",
    "        \n",
    "    # Calculate the rotation velocity: vrot = theta[1]*sqrt(mass/x)\n",
    "    # The units of sqrt(mass/x) are kpc.\n",
    "    # The rotation velocity is equal to sqrt(G*rho0)*sqrt((M/rho0)/x) where M is the mass enclosed, \n",
    "    # rho0 is the normalization constant of the mass distribution, and x is the distance at which we\n",
    "    # calculate vrot.\n",
    "    # When we determine theta[1], we determine sqrt(G*rho0).\n",
    "    # The units of vrot are km/s.\n",
    "    # The units of sqrt(mass/x) are kpc.\n",
    "    # The units of theta[1] are thus (km/s)/kpc = (10^3 m)/s/(3.086E19 m) = 3.24E-17 1/s.\n",
    "    # Since theta[1] = sqrt(G*rho0) we can now determine rho0: rho0 = theta[1]^2/G.\n",
    "    # The units on the right-hand side are: (3.24E-17 1/s)^2/(m^3/(kg s^2)) = (3.24E-17)^2 kg/(m^3)\n",
    "    # To convert from kg/m^3 to kg/kpc^3, we multiply by (3.086E19)^3\n",
    "    # The normalization constant rho0 is thus (theta1[1]^2)/6.67E-11 * ((3.24E-17)^2 * (3.086E19)^3 kg/(kpc)^3 = \n",
    "    # (theta1[1]^2)*4.625E35 kg/(kpc)^3 = 2.312E5 Msun/(kpc)^3.\n",
    "    vrot = theta[1]*np.sqrt(mass/x) \n",
    "    \n",
    "    return vrot"
   ]
  },
  {
   "cell_type": "code",
   "execution_count": 7,
   "metadata": {
    "collapsed": true
   },
   "outputs": [],
   "source": [
    "# Define a likelihood function\n",
    "def loglike_NFW(theta):\n",
    "    \n",
    "    # Calculate the mass between 0 and data_x by integrating the NFW distribution.\n",
    "    a = theta[0]\n",
    "    mass = 4.*np.pi*(a**3)*(np.log((a+data_x)/a-data_x/(a+data_x)))\n",
    "        \n",
    "    # Calculate the rotation velocity.\n",
    "    vrot = theta[1]*np.sqrt(mass/data_x) \n",
    "    \n",
    "    # The y variable is the rotational velocity.\n",
    "    y = vrot\n",
    "\n",
    "    # Calculate chisq\n",
    "    chisq= np.sum(((data_y - y) / data_yerr)**2)\n",
    "    return -chisq / 2.\n",
    "\n"
   ]
  },
  {
   "cell_type": "markdown",
   "metadata": {},
   "source": [
    "### The prior: \n",
    "uniform priors with constraints from literature. \n",
    "  "
   ]
  },
  {
   "cell_type": "code",
   "execution_count": 8,
   "metadata": {
    "collapsed": true
   },
   "outputs": [],
   "source": [
    "# It is a transformation from a space where variables are independently and uniformly distributed between 0 and 1 to the parameter space of interest. \n",
    "# \n",
    "\n",
    "\n",
    "def prior_transform_NFW(theta):\n",
    "    \n",
    "    # theta[0] in the range of [0,10] and theta[1] in the range of [0,300]\n",
    "    # return  np.array([10, 300]) * theta\n",
    "    return  np.array([10*theta[0],500*theta[1]])\n"
   ]
  },
  {
   "cell_type": "markdown",
   "metadata": {},
   "source": [
    "Therefore, we can calculated the posterior $ p(M|D,I) = \\frac{p(M|I) p(D|M, I)}{p(D|I)} $ and compare the posterior by MCMC and/or Nestle to do model comparison. \n",
    "\n",
    "By using the Nestle package, it will give us log evidence, numerical (sampling) error on logz, array of sample parameters, array of weights associated with each sampleand result.weights. "
   ]
  },
  {
   "cell_type": "code",
   "execution_count": 9,
   "metadata": {
    "collapsed": false
   },
   "outputs": [
    {
     "name": "stdout",
     "output_type": "stream",
     "text": [
      "log evidence\n",
      "-48.5859347417\n",
      "numerical (sampling) error on logz\n",
      "0.2483845084060708\n",
      "array of sample parameters\n",
      "[[   9.8073991   410.76610372]\n",
      " [   8.25033785  493.74177788]\n",
      " [   8.2993575   470.96766222]\n",
      " ..., \n",
      " [   2.28015677   55.58210489]\n",
      " [   2.0823957    63.33933878]\n",
      " [   1.92305084   69.90864244]]\n",
      "array of weights associated with each sample\n",
      "[  0.00000000e+000   0.00000000e+000   0.00000000e+000   0.00000000e+000\n",
      "   0.00000000e+000   0.00000000e+000   0.00000000e+000   0.00000000e+000\n",
      "   0.00000000e+000   0.00000000e+000   0.00000000e+000   0.00000000e+000\n",
      "   0.00000000e+000   0.00000000e+000   0.00000000e+000   0.00000000e+000\n",
      "   0.00000000e+000   0.00000000e+000   0.00000000e+000   0.00000000e+000\n",
      "   0.00000000e+000   0.00000000e+000   0.00000000e+000   0.00000000e+000\n",
      "   0.00000000e+000   0.00000000e+000   0.00000000e+000   0.00000000e+000\n",
      "   0.00000000e+000   0.00000000e+000   0.00000000e+000   0.00000000e+000\n",
      "   0.00000000e+000   0.00000000e+000   0.00000000e+000   0.00000000e+000\n",
      "   0.00000000e+000   0.00000000e+000   0.00000000e+000   0.00000000e+000\n",
      "   0.00000000e+000   0.00000000e+000   0.00000000e+000   0.00000000e+000\n",
      "   0.00000000e+000   0.00000000e+000   0.00000000e+000   0.00000000e+000\n",
      "   0.00000000e+000   0.00000000e+000   0.00000000e+000   0.00000000e+000\n",
      "   0.00000000e+000   0.00000000e+000   0.00000000e+000   0.00000000e+000\n",
      "   0.00000000e+000   0.00000000e+000   0.00000000e+000   0.00000000e+000\n",
      "   0.00000000e+000   0.00000000e+000   0.00000000e+000   0.00000000e+000\n",
      "   0.00000000e+000   0.00000000e+000   0.00000000e+000   0.00000000e+000\n",
      "   0.00000000e+000   0.00000000e+000   0.00000000e+000   0.00000000e+000\n",
      "   0.00000000e+000   0.00000000e+000   0.00000000e+000   0.00000000e+000\n",
      "   0.00000000e+000   0.00000000e+000   0.00000000e+000   0.00000000e+000\n",
      "   0.00000000e+000   0.00000000e+000   0.00000000e+000   0.00000000e+000\n",
      "   0.00000000e+000   0.00000000e+000   0.00000000e+000   0.00000000e+000\n",
      "   0.00000000e+000   0.00000000e+000   0.00000000e+000   0.00000000e+000\n",
      "   0.00000000e+000   0.00000000e+000   0.00000000e+000   0.00000000e+000\n",
      "   0.00000000e+000   0.00000000e+000   0.00000000e+000   0.00000000e+000\n",
      "   0.00000000e+000   0.00000000e+000   0.00000000e+000   0.00000000e+000\n",
      "   0.00000000e+000   0.00000000e+000   0.00000000e+000   0.00000000e+000\n",
      "   0.00000000e+000   0.00000000e+000   0.00000000e+000   0.00000000e+000\n",
      "   0.00000000e+000   0.00000000e+000   0.00000000e+000   0.00000000e+000\n",
      "   0.00000000e+000   0.00000000e+000   0.00000000e+000   0.00000000e+000\n",
      "   0.00000000e+000   0.00000000e+000   0.00000000e+000   0.00000000e+000\n",
      "   0.00000000e+000   0.00000000e+000   0.00000000e+000   0.00000000e+000\n",
      "   0.00000000e+000   0.00000000e+000   0.00000000e+000   0.00000000e+000\n",
      "   0.00000000e+000   0.00000000e+000   0.00000000e+000   0.00000000e+000\n",
      "   0.00000000e+000   0.00000000e+000   0.00000000e+000   0.00000000e+000\n",
      "   0.00000000e+000   0.00000000e+000   0.00000000e+000   0.00000000e+000\n",
      "   0.00000000e+000   0.00000000e+000   0.00000000e+000   0.00000000e+000\n",
      "   0.00000000e+000   0.00000000e+000   0.00000000e+000   0.00000000e+000\n",
      "   0.00000000e+000   0.00000000e+000   0.00000000e+000   0.00000000e+000\n",
      "   0.00000000e+000   0.00000000e+000   0.00000000e+000   0.00000000e+000\n",
      "   0.00000000e+000   0.00000000e+000   0.00000000e+000   0.00000000e+000\n",
      "   0.00000000e+000   0.00000000e+000   0.00000000e+000   0.00000000e+000\n",
      "   0.00000000e+000   0.00000000e+000   0.00000000e+000   0.00000000e+000\n",
      "   0.00000000e+000   0.00000000e+000   0.00000000e+000   0.00000000e+000\n",
      "   0.00000000e+000   0.00000000e+000   0.00000000e+000   0.00000000e+000\n",
      "   0.00000000e+000   0.00000000e+000   0.00000000e+000   0.00000000e+000\n",
      "   0.00000000e+000   0.00000000e+000   0.00000000e+000   0.00000000e+000\n",
      "   0.00000000e+000   0.00000000e+000   0.00000000e+000   0.00000000e+000\n",
      "   0.00000000e+000   0.00000000e+000   0.00000000e+000   0.00000000e+000\n",
      "   0.00000000e+000   0.00000000e+000   0.00000000e+000   0.00000000e+000\n",
      "   0.00000000e+000   0.00000000e+000   0.00000000e+000   0.00000000e+000\n",
      "   0.00000000e+000   0.00000000e+000   0.00000000e+000   0.00000000e+000\n",
      "   0.00000000e+000   0.00000000e+000   0.00000000e+000   0.00000000e+000\n",
      "   0.00000000e+000   0.00000000e+000   0.00000000e+000   0.00000000e+000\n",
      "   0.00000000e+000   0.00000000e+000   0.00000000e+000   0.00000000e+000\n",
      "   0.00000000e+000   0.00000000e+000   0.00000000e+000   1.14129164e-321\n",
      "   3.22624867e-321   9.19950233e-321   1.64354886e-310   4.50918773e-309\n",
      "   5.82620203e-309   3.94279098e-295   1.06701180e-284   6.21792321e-284\n",
      "   6.03134215e-281   2.13401057e-280   2.49012994e-279   9.16482439e-273\n",
      "   2.27425337e-272   2.77313034e-265   4.15986829e-259   6.66528120e-258\n",
      "   9.31441929e-255   5.50240750e-245   3.92346603e-236   6.27369955e-234\n",
      "   8.25367784e-230   9.01711177e-209   2.33121798e-207   1.01266137e-200\n",
      "   6.56510923e-198   1.51404444e-195   2.58914121e-195   6.24897391e-191\n",
      "   1.16539927e-187   9.13866666e-183   3.89821865e-182   1.57542749e-177\n",
      "   1.28227908e-170   1.44388613e-167   1.55500732e-167   1.93151417e-166\n",
      "   8.26784691e-161   1.76433423e-159   1.21805396e-158   1.97363278e-158\n",
      "   8.19515084e-158   3.21174083e-152   1.56986887e-149   2.85973698e-149\n",
      "   1.45893668e-146   1.23043661e-143   4.29745740e-132   6.70588016e-131\n",
      "   3.21825283e-129   5.69123091e-126   4.87755249e-119   3.40555723e-115\n",
      "   5.34120944e-115   8.12944393e-114   7.69121778e-113   6.34080880e-109\n",
      "   1.19698617e-108   3.29866967e-107   7.88445206e-102   1.55470112e-098\n",
      "   7.44871003e-097   2.02745188e-096   5.01369448e-095   3.60725111e-093\n",
      "   1.87774243e-091   4.75455803e-087   2.96061781e-085   1.00082367e-081\n",
      "   2.76899083e-078   4.04525949e-076   1.33896187e-074   1.40646638e-072\n",
      "   3.20757356e-071   2.14195858e-069   8.68801389e-069   8.48530878e-068\n",
      "   2.47768404e-065   2.37862640e-063   3.20393672e-063   3.02945512e-062\n",
      "   6.69380403e-062   1.13255675e-061   3.63687382e-061   1.26212951e-060\n",
      "   1.34753550e-060   3.05508156e-060   3.57082957e-060   5.47557906e-059\n",
      "   4.08492624e-055   1.87785934e-052   2.54677157e-051   3.07569799e-051\n",
      "   6.63625865e-050   7.04111700e-050   4.12005442e-049   2.22379892e-048\n",
      "   1.66728756e-047   4.99549094e-045   6.02619957e-045   8.72422999e-045\n",
      "   8.93780796e-045   4.81938653e-044   1.25645860e-043   6.72480792e-042\n",
      "   1.70708378e-041   1.69387019e-041   3.61833238e-041   1.17256938e-040\n",
      "   8.05599104e-040   8.63960332e-040   9.80493367e-040   8.50300649e-039\n",
      "   1.44894644e-038   7.30674461e-038   4.78275265e-037   2.76608283e-034\n",
      "   8.09432408e-034   1.03673408e-032   1.79298701e-030   1.53520843e-028\n",
      "   2.48507607e-028   4.46832370e-028   1.09818904e-027   1.23656900e-027\n",
      "   1.44536933e-027   6.56301077e-027   2.16233967e-026   5.13121790e-026\n",
      "   5.82118315e-026   5.99296286e-026   7.30630988e-026   7.26619222e-026\n",
      "   1.88523057e-025   3.31537291e-025   3.98957638e-025   4.91055818e-025\n",
      "   7.11460584e-025   9.16811395e-025   1.06825510e-024   2.25069199e-023\n",
      "   3.20775113e-023   3.27948412e-023   4.35921888e-023   9.65124027e-023\n",
      "   3.70557838e-022   6.01808495e-022   2.23577528e-021   4.74364935e-021\n",
      "   7.20197812e-021   3.56650762e-020   3.59502403e-020   3.88039430e-019\n",
      "   1.31531351e-018   1.58355941e-018   3.13292002e-018   3.47958773e-018\n",
      "   3.88575006e-018   5.07927632e-018   2.48630696e-017   3.05393841e-017\n",
      "   4.53329419e-017   7.90639807e-017   1.13879268e-016   1.82984505e-016\n",
      "   2.51345351e-016   5.41271625e-016   5.69678362e-016   6.78826426e-016\n",
      "   1.14683726e-015   2.06837007e-015   2.61018841e-015   2.76989148e-015\n",
      "   5.30804408e-015   5.79228520e-015   9.78121090e-015   1.38562598e-014\n",
      "   2.48189357e-014   3.89014093e-014   3.88777656e-014   2.29752645e-013\n",
      "   2.39386822e-013   3.44391988e-013   6.25731936e-013   1.68065700e-012\n",
      "   2.11718831e-012   3.50813276e-012   3.62481312e-012   4.36721727e-012\n",
      "   6.47340040e-012   7.88555931e-012   1.83818734e-011   2.42762050e-011\n",
      "   2.44935696e-011   2.87116824e-011   2.94678907e-011   6.10506093e-011\n",
      "   8.49745245e-011   1.04373166e-010   1.17466492e-010   1.46670533e-010\n",
      "   2.70141722e-010   3.03541187e-010   3.23522480e-010   3.39967129e-010\n",
      "   5.04654015e-010   5.46036629e-010   5.69082239e-010   6.34321473e-010\n",
      "   2.34425958e-009   3.05180023e-009   3.53354778e-009   3.96443135e-009\n",
      "   4.84640814e-009   6.85945584e-009   1.05415143e-008   1.35353197e-008\n",
      "   3.38844128e-008   4.15436214e-008   4.18429968e-008   5.50384507e-008\n",
      "   6.13627812e-008   6.88287749e-008   6.87190122e-008   7.78681362e-008\n",
      "   7.85940452e-008   7.84296955e-008   8.48252283e-008   8.78730639e-008\n",
      "   9.06377951e-008   1.11437731e-007   1.86267424e-007   2.21585609e-007\n",
      "   2.61363932e-007   5.02556609e-007   5.44739431e-007   5.46276389e-007\n",
      "   6.47701971e-007   1.20795559e-006   1.78181673e-006   2.00224105e-006\n",
      "   2.01140260e-006   2.52574203e-006   3.03193316e-006   4.23498362e-006\n",
      "   4.44066337e-006   4.56065158e-006   5.05903372e-006   5.39967045e-006\n",
      "   8.54044508e-006   8.47150338e-006   1.03063945e-005   1.05225658e-005\n",
      "   1.09105364e-005   1.20407656e-005   1.56646812e-005   1.65388110e-005\n",
      "   1.80591600e-005   2.09437468e-005   2.18686238e-005   2.24345854e-005\n",
      "   2.29835151e-005   2.88226801e-005   2.98118094e-005   3.03060445e-005\n",
      "   3.13885233e-005   3.51343232e-005   3.84806427e-005   4.02603577e-005\n",
      "   3.99544606e-005   3.95650397e-005   4.18873457e-005   4.37093913e-005\n",
      "   5.16383106e-005   5.37479125e-005   5.75254497e-005   5.75185046e-005\n",
      "   5.76267052e-005   5.80291390e-005   6.16169019e-005   6.24357110e-005\n",
      "   7.44819989e-005   7.48622272e-005   7.53803099e-005   7.76388736e-005\n",
      "   7.83491638e-005   7.97036466e-005   7.90417764e-005   8.10342800e-005\n",
      "   8.85764335e-005   9.40512743e-005   9.36563325e-005   9.49271917e-005\n",
      "   9.48204821e-005   9.56231732e-005   9.68803817e-005   9.76983000e-005\n",
      "   1.05909759e-004   1.07610431e-004   1.09040562e-004   1.16946595e-004\n",
      "   1.17798434e-004   1.31365958e-004   1.39325930e-004   1.38525761e-004\n",
      "   1.44019591e-004   1.68852271e-004   1.69838652e-004   1.76603428e-004\n",
      "   1.79793059e-004   1.84153998e-004   1.84812157e-004   1.88380064e-004\n",
      "   1.86886179e-004   1.89317588e-004   2.13096215e-004   2.22742174e-004\n",
      "   2.56372342e-004   2.55334825e-004   2.59997912e-004   2.66830581e-004\n",
      "   2.75741309e-004   2.86541733e-004   2.89815229e-004   3.30359251e-004\n",
      "   3.36974072e-004   3.64425147e-004   3.68678558e-004   3.84077513e-004\n",
      "   4.42953772e-004   4.42270416e-004   4.68657344e-004   4.70526864e-004\n",
      "   4.93562508e-004   4.88867241e-004   4.86010324e-004   4.85252218e-004\n",
      "   5.05170186e-004   5.28027262e-004   5.48499940e-004   5.49097258e-004\n",
      "   5.67809906e-004   5.69114017e-004   5.91341137e-004   6.22366936e-004\n",
      "   6.22660787e-004   6.30265848e-004   6.46981044e-004   6.50910672e-004\n",
      "   6.54722694e-004   6.89289926e-004   6.88199986e-004   7.10183304e-004\n",
      "   7.62022040e-004   7.70903009e-004   7.73785330e-004   7.77087704e-004\n",
      "   7.72755076e-004   7.87473380e-004   8.09248559e-004   8.36758000e-004\n",
      "   8.35801402e-004   8.74333185e-004   8.78210691e-004   8.99317856e-004\n",
      "   9.61787289e-004   9.74995552e-004   1.01819527e-003   1.01259268e-003\n",
      "   1.01930810e-003   1.02227082e-003   1.01892322e-003   1.06688250e-003\n",
      "   1.07731778e-003   1.23211366e-003   1.32169665e-003   1.32195954e-003\n",
      "   1.33407346e-003   1.33309896e-003   1.33446168e-003   1.36947116e-003\n",
      "   1.40474324e-003   1.45449167e-003   1.48262045e-003   1.47574453e-003\n",
      "   1.47553196e-003   1.49839612e-003   1.55620532e-003   1.55717493e-003\n",
      "   1.55647610e-003   1.61569986e-003   1.62934671e-003   1.61809416e-003\n",
      "   1.69894857e-003   1.72215455e-003   1.78017132e-003   1.87934946e-003\n",
      "   1.87066202e-003   1.90589687e-003   1.95967677e-003   2.01656695e-003\n",
      "   2.05314387e-003   2.05128538e-003   2.06441047e-003   2.11649681e-003\n",
      "   2.12183344e-003   2.10559137e-003   2.13397602e-003   2.13877969e-003\n",
      "   2.13235756e-003   2.13096949e-003   2.11670641e-003   2.10045125e-003\n",
      "   2.08094251e-003   2.10754833e-003   2.08916697e-003   2.18415315e-003\n",
      "   2.16301330e-003   2.17605286e-003   2.16866067e-003   2.18818555e-003\n",
      "   2.23771334e-003   2.23708318e-003   2.21501200e-003   2.23755212e-003\n",
      "   2.22297814e-003   2.24405498e-003   2.25122967e-003   2.24662602e-003\n",
      "   2.34165005e-003   2.33395969e-003   2.47699862e-003   2.47842438e-003\n",
      "   2.47613510e-003   2.50600219e-003   2.56079169e-003   2.60201874e-003\n",
      "   2.59572847e-003   2.59800720e-003   2.60438362e-003   2.68894073e-003\n",
      "   2.73658891e-003   2.76076913e-003   2.78672036e-003   2.89553423e-003\n",
      "   2.98877832e-003   2.98934802e-003   2.96105735e-003   3.03598045e-003\n",
      "   3.03250847e-003   3.03066367e-003   3.01332696e-003   3.02532955e-003\n",
      "   2.99966164e-003   3.00243238e-003   3.03551288e-003   3.17025712e-003\n",
      "   3.23998112e-003   3.23554384e-003   3.31280168e-003   3.34602655e-003\n",
      "   3.36992683e-003   3.41678517e-003   3.39318704e-003   3.36941507e-003\n",
      "   3.44701817e-003   3.55468718e-003   3.56523498e-003   3.54376387e-003\n",
      "   3.58193086e-003   3.57178379e-003   3.72858530e-003   3.74285024e-003\n",
      "   3.75236988e-003   3.73877472e-003   3.79116551e-003   3.79384367e-003\n",
      "   3.77680772e-003   3.74400328e-003   3.75075845e-003   3.72054032e-003\n",
      "   3.81204919e-003   3.82216565e-003   3.79700390e-003   3.76917981e-003\n",
      "   3.73378038e-003   3.69776087e-003   3.66304690e-003   3.66387833e-003\n",
      "   3.65639791e-003   3.62013232e-003   3.59386837e-003   3.61378033e-003\n",
      "   3.58671398e-003   3.55678973e-003   3.54054726e-003   3.57733462e-003\n",
      "   3.63132227e-003   3.62772301e-003   3.72926722e-003   3.73815675e-003\n",
      "   3.73161147e-003   3.69607476e-003   3.67393068e-003   3.65039948e-003\n",
      "   3.61774148e-003   3.63179102e-003   3.60333455e-003   3.56762030e-003\n",
      "   3.57830538e-003   3.64676527e-003   3.64139756e-003   3.66536493e-003\n",
      "   3.65076652e-003   3.66415128e-003   3.72797485e-003   3.69389961e-003\n",
      "   3.68047068e-003   3.68700373e-003   3.66826489e-003   3.63815980e-003\n",
      "   3.65614987e-003   3.62499451e-003   3.60099374e-003   3.63708320e-003\n",
      "   3.64617865e-003   3.61318971e-003   3.59256305e-003   3.60468353e-003\n",
      "   3.57163508e-003   3.53650144e-003   3.50356944e-003   3.46899156e-003\n",
      "   3.44074353e-003   3.46688254e-003   3.43259894e-003   3.40543427e-003\n",
      "   3.39109248e-003   3.37660530e-003   3.35329261e-003   3.32552696e-003\n",
      "   3.30202023e-003   3.27024504e-003   3.26167419e-003   3.24421944e-003\n",
      "   3.21670543e-003   3.19565257e-003   3.17710806e-003   3.17289894e-003\n",
      "   3.14209386e-003   3.11379214e-003   3.10616307e-003   3.09575358e-003\n",
      "   3.08900613e-003   3.05944013e-003   3.07544100e-003   3.04570238e-003\n",
      "   3.03346001e-003   3.02474338e-003   3.00095755e-003   2.98519487e-003\n",
      "   2.99015679e-003   2.97165459e-003   2.94572957e-003   2.96680147e-003\n",
      "   2.94403475e-003   2.92026408e-003   2.89299350e-003   2.87026920e-003\n",
      "   2.89592810e-003   2.87399885e-003   2.86474357e-003   2.89064749e-003\n",
      "   2.88460295e-003   2.86382914e-003   2.83753468e-003   2.81038981e-003\n",
      "   2.80701724e-003   2.82205955e-003   2.79461921e-003   2.77302095e-003\n",
      "   2.75115372e-003   2.75320757e-003   2.72697953e-003   2.70302775e-003\n",
      "   2.69943066e-003   3.78144498e-003   3.44642384e-003   2.90395134e-003\n",
      "   3.30940695e-003   3.87918403e-003   3.14002594e-003   3.28508116e-003\n",
      "   3.44485091e-003   3.03954764e-003   3.50023615e-003   3.80836995e-003\n",
      "   3.50644557e-003   2.80034736e-003   3.10554003e-003   3.00816129e-003\n",
      "   3.08509938e-003   2.73831062e-003   2.80044928e-003   2.82613950e-003\n",
      "   3.54984281e-003   3.24367649e-003   2.74269124e-003   4.03415960e-003\n",
      "   3.67131470e-003   4.12508104e-003   3.33033625e-003   4.07710973e-003\n",
      "   3.81350798e-003   3.57170398e-003   3.64189794e-003   2.69234707e-003\n",
      "   3.37604757e-003   3.23530949e-003   3.09471185e-003   3.32066548e-003\n",
      "   2.79284478e-003   4.00113875e-003   4.02314384e-003   3.00520140e-003\n",
      "   2.73424799e-003   3.83992658e-003   3.34313372e-003   3.35146344e-003\n",
      "   2.94090540e-003   4.12701613e-003   3.07483692e-003   2.68872728e-003\n",
      "   3.46794291e-003   4.20911273e-003   3.18987165e-003   3.98537938e-003\n",
      "   3.24507628e-003   3.39132886e-003   2.85554601e-003   3.38259278e-003\n",
      "   2.77142265e-003   3.42993613e-003   3.38884348e-003   3.14233508e-003\n",
      "   2.69176391e-003   3.70143591e-003   3.92273462e-003   4.14854145e-003\n",
      "   2.76377030e-003   3.27835769e-003   3.63977440e-003   4.03993740e-003\n",
      "   3.65627877e-003   4.07119751e-003   3.69206504e-003   2.92424221e-003\n",
      "   4.13645290e-003   3.76580804e-003   2.88103875e-003   3.35501294e-003\n",
      "   3.64922206e-003   3.96452060e-003   3.30644067e-003   3.32282369e-003\n",
      "   3.22197492e-003   3.38496798e-003   3.19791827e-003   3.06593946e-003\n",
      "   3.81885357e-003   3.87498003e-003   4.10904051e-003   4.21114243e-003\n",
      "   3.43061638e-003   4.08276233e-003   3.18008376e-003   2.90607944e-003\n",
      "   3.67406233e-003   3.96617273e-003   3.31162107e-003   2.76461885e-003\n",
      "   3.45716233e-003   3.22714418e-003   3.20639305e-003   3.74530966e-003\n",
      "   3.51469499e-003]\n"
     ]
    }
   ],
   "source": [
    "# Run nested sampling.\n",
    "result = nestle.sample(loglike_NFW, prior_transform_NFW, 2)\n",
    "\n",
    "print ('log evidence')\n",
    "print (result.logz)\n",
    "\n",
    "print ('numerical (sampling) error on logz')\n",
    "print (result.logzerr)   \n",
    "       \n",
    "print ('array of sample parameters')\n",
    "print (result.samples)  \n",
    "       \n",
    "print ('array of weights associated with each sample')\n",
    "print (result.weights)\n"
   ]
  },
  {
   "cell_type": "code",
   "execution_count": 10,
   "metadata": {
    "collapsed": false
   },
   "outputs": [
    {
     "name": "stdout",
     "output_type": "stream",
     "text": [
      "core radius a =  2.17 +/-  0.62 kpc\n",
      "normalization factor = 69.60 +/- 34.67\n",
      "Halo density normalization constant = 1.61e+07 +/- 8.02e+06 Msun/kpc^3\n",
      "Halo density in our solor system = 5.60e+07 Msun/kpc^3.\n",
      "Halo density in our solor system = 2.14e+03 GeV/c^2/liter.\n"
     ]
    },
    {
     "data": {
      "image/png": "[encoded data removed]",
      "text/plain": [
       "<matplotlib.figure.Figure at 0x104936f28>"
      ]
     },
     "metadata": {},
     "output_type": "display_data"
    },
    {
     "data": {
      "image/png": "[encoded data removed]",
      "text/plain": [
       "<matplotlib.figure.Figure at 0x1176a73c8>"
      ]
     },
     "metadata": {},
     "output_type": "display_data"
    }
   ],
   "source": [
    "p, cov = nestle.mean_and_cov(result.samples, result.weights)\n",
    "\n",
    "print(\"core radius a = {0:5.2f} +/- {1:5.2f} kpc\".format(p[0], np.sqrt(cov[0, 0])))\n",
    "print(\"normalization factor = {0:5.2f} +/- {1:5.2f}\".format(p[1], np.sqrt(cov[1, 1])))\n",
    "print(\"Halo density normalization constant = {0:5.2e} +/- {1:5.2e} Msun/kpc^3\".format(2.312E5*p[1], 2.312E5*np.sqrt(cov[1, 1])))\n",
    "\n",
    "# Note: in order to convert the model to units of Msun/kpc^3 we multiply its value by 2.312E5.\n",
    "# See comments in the model definition for details.\n",
    "print(\"Halo density in our solor system = {0:5.2e} Msun/kpc^3.\".format(2.312E5*model_NFW(p, 8)))\n",
    "\n",
    "# Note: 1 Msun/kpc^3 = 3.817E-2 (GeV/c^2)/m^3 = 3.817E-5 (GeV/c^2)/(dm^3)\n",
    "# 1 dm^3 = 1 liter.\n",
    "# 3 WIMPS/liter would be 300 GeV/c^2/liter\n",
    "print(\"Halo density in our solor system = {0:5.2e} GeV/c^2/liter.\".format(3.817E-5*2.312E5*model_NFW(p, 8)))\n",
    "\n",
    "plt.figure()\n",
    "plt.errorbar(data_x,data_y,data_yerr,data_xerr,fmt='*')\n",
    "plt.xlabel(\"r (kpc)\")\n",
    "plt.ylabel('V (km/s)')\n",
    "plt.title(\"The measured rotational speed of the interstellar medium as a fucntion of the galactocentric radius\")\n",
    "plt.plot([5.,200.],model_NFW(p, np.array([5.,200.])))\n",
    "plt.show()\n",
    "\n",
    "fig = corner.corner(result.samples, weights=result.weights, labels=['a', 'rho0'],\n",
    "                    range=[0.99999, 0.99999], bins=30)\n",
    "plt.show()"
   ]
  },
  {
   "cell_type": "markdown",
   "metadata": {},
   "source": [
    "## (1) test model in terminal by running \"python textdmdcode.py\"\n",
    "\n",
    "run test code in terminal and get the output as following"
   ]
  },
  {
   "cell_type": "markdown",
   "metadata": {},
   "source": [
    "\"\n",
    "\n",
    "Junes-MacBook:NestedSampling_DMD june$ python textdmdcode.py\n",
    "...\n",
    "----------------------------------------------------------------------\n",
    "Ran 3 tests in 0.004s\n",
    "\n",
    "OK\n",
    "\n",
    "\""
   ]
  },
  {
   "cell_type": "markdown",
   "metadata": {},
   "source": [
    "Therefore, model works as intended "
   ]
  },
  {
   "cell_type": "code",
   "execution_count": null,
   "metadata": {
    "collapsed": true
   },
   "outputs": [],
   "source": []
  },
  {
   "cell_type": "markdown",
   "metadata": {},
   "source": [
    "## (2) test model in terminal by running \"nosetests textdmdcode.py\"\n",
    "\n",
    "run test code in terminal and get the output as following"
   ]
  },
  {
   "cell_type": "markdown",
   "metadata": {},
   "source": [
    "\"\n",
    "\n",
    "Junes-MacBook:NestedSampling_DMD june$ nosetests textdmdcode.py\n",
    "...\n",
    "----------------------------------------------------------------------\n",
    "Ran 3 tests in 0.004s\n",
    "\n",
    "OK\n",
    "Junes-MacBook:NestedSampling_DMD june$\n",
    "    \n",
    "    \n",
    "''"
   ]
  },
  {
   "cell_type": "markdown",
   "metadata": {},
   "source": [
    "## Referece\n",
    "\n",
    "[1] J. H. Oort. The force exerted by the stellar system in the direction\n",
    "perpendicular to the galactic plane and some related problems.\n",
    "Bull. Astr. Inst. Netherlands, 6:249, aug 1932.\n",
    "\n",
    "\n",
    "[2] D. P. Clemens. Massachusetts-Stony Brook Galactic plane\n",
    "CO survey - The Galactic disk rotation curve. Astrophys. J. ,\n",
    "295:422–428, August 1985. \n",
    "\n",
    "\n",
    "[3] V. C. Rubin, N. Thonnard, and W. K. Ford, Jr. Extended rotation\n",
    "curves of high-luminosity spiral galaxies. IV - Systematic\n",
    "dynamical properties, SA through SC. The Astrophysical Journal,\n",
    "225:L107–L111, November 1978. \n",
    "\n",
    "\n",
    "[4] F. Zwicky. Die Rotverschiebung von extragalaktischen Nebeln.\n",
    "Helvetica Physica Acta, 6:110–127, 1933. \n",
    "\n",
    "\n",
    "[5] Douglas Clowe, Marusa Bradac, Anthony H. Gonzalez, Maxim\n",
    "Markevitch, Scott W. Randall, Christine Jones, and Dennis\n",
    "Zaritsky. A direct empirical proof of the existence of dark matter.\n",
    "Astrophys. J., 648:L109–L113, 2006. \n",
    "\n",
    "\n",
    "[6] Maxim Markevitch. Chandra observation of the most interesting\n",
    "cluster in the universe. 2005. [ESA Spec.\n",
    "Publ.604,723(2006)]. \n",
    "\n",
    "\n",
    "[7] Composite Credit: X-ray: NASA/CXC/CfA/ M.Markevitch\n",
    "et al.; Lensing Map: NASA/STScI; ESO WFI; Magellan/\n",
    "U.Arizona/ D.Clowe et al.; Optical: NASA/STScI; Magellan/\n",
    "U.Arizona/D.Clowe et al.;. \n",
    "\n",
    "[8] Pijushpani Bhattacharjee, Soumini Chaudhury, and Susmita\n",
    "Kundu. Rotation Curve of the Milky Way out to \u0018 200 kpc.\n",
    "Astrophys. J., 785:63, 2014."
   ]
  },
  {
   "cell_type": "code",
   "execution_count": null,
   "metadata": {
    "collapsed": true
   },
   "outputs": [],
   "source": []
  }
 ],
 "metadata": {
  "anaconda-cloud": {},
  "kernelspec": {
   "display_name": "Python [conda root]",
   "language": "python",
   "name": "conda-root-py"
  },
  "language_info": {
   "codemirror_mode": {
    "name": "ipython",
    "version": 3
   },
   "file_extension": ".py",
   "mimetype": "text/x-python",
   "name": "python",
   "nbconvert_exporter": "python",
   "pygments_lexer": "ipython3",
   "version": "3.5.2"
  }
 },
 "nbformat": 4,
 "nbformat_minor": 2
}
