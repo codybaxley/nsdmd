{
 "cells": [
  {
   "cell_type": "markdown",
   "metadata": {},
   "source": [
    "### In this project, we will do model comparison on four Dark Matter density profiles. We will test which models fits the galaxy rotational curve best."
   ]
  },
  {
   "cell_type": "markdown",
   "metadata": {},
   "source": [
    "### Model\n",
    "Model \n",
    "\n",
    "$ M $ = The rotational curve calculated with the existence of dark matter and the dark matter density is given by the density profile. We have four dark matter density files and give us 4 models to compare. \n",
    "\n",
    "The posterior distribution is calculated as, $ p(M|D,I) = \\frac{p(M|I) p(D|M, I)}{p(D|I)} $"
   ]
  },
  {
   "cell_type": "markdown",
   "metadata": {},
   "source": [
    "\n",
    "\n",
    "### The four Dark Matter density profiles models: \n",
    "\n",
    "Note that\n",
    "\n",
    "r: galactocentric radius\n",
    "\n",
    "$ \\rho( r ) $ : Dark Matter Density as a function of galactocentric radius"
   ]
  },
  {
   "cell_type": "markdown",
   "metadata": {},
   "source": [
    "\n",
    "### (1) NFW profile :\n",
    "\n",
    " $ \\rho \\left( r \\right) \\propto \\frac{1}{{\\left( r/a \\right)}{\\left[ 1~+~{{\\left( r/a \\right)}} \\right]}^{2}} $\n",
    "\n",
    "\n",
    "### (2) Isothermal profile:\n",
    "\n",
    "  $  \\rho \\left( r \\right) \\propto \\frac{1}{{\\left[ 1~+~{{\\left( r/a \\right)}^{2}} \\right]}} $\n",
    "\n",
    "\n",
    "### (3) Einasto profile :\n",
    "\n",
    " $ \\rho \\left( r \\right) \\propto \\exp^{- A r ^\\alpha} $\n",
    "\n",
    "\n",
    "### (4) Generalized DM profile :\n",
    "\n",
    " $ \\rho \\left( r \\right) \\propto    \\frac{1}{{\\left( r/a \\right)}^{\\gamma}{\\left[ 1~+~{{\\left( r/a \\right)}^{\\alpha}} \\right]}^{ \\frac{(\\beta - \\gamma)}{\\alpha}}} $\n",
    "\n"
   ]
  },
  {
   "cell_type": "markdown",
   "metadata": {},
   "source": [
    "### We can calcuate rotational curve from Dark Matter density profiles, by assuming dark matter distribution is spherically symmetric"
   ]
  },
  {
   "cell_type": "markdown",
   "metadata": {},
   "source": [
    "$ \\frac{GMm}{4 \\pi  R^2} = \\frac {m v^2}{R}$  where $M=\\int_{R_o}^{R} \\rho (r) 4 \\pi  R^2 dr$"
   ]
  },
  {
   "cell_type": "markdown",
   "metadata": {},
   "source": [
    "$v_{calculated} = \\sqrt { \\frac{ G   \\int_{R_o}^{R} \\rho (r) 4 \\pi  r^2 dr} {4 \\pi  r}  }   $"
   ]
  },
  {
   "cell_type": "code",
   "execution_count": null,
   "metadata": {
    "collapsed": true
   },
   "outputs": [],
   "source": []
  },
  {
   "cell_type": "code",
   "execution_count": 87,
   "metadata": {
    "collapsed": true
   },
   "outputs": [],
   "source": [
    "  #  !!!! pip install nestle  (from terminal)\n",
    "    \n",
    "# !conda install -y -c conda-forge nestle (somehow couldn't find nestle)"
   ]
  },
  {
   "cell_type": "code",
   "execution_count": 1,
   "metadata": {
    "collapsed": false
   },
   "outputs": [],
   "source": [
    "import numpy as np\n",
    "import nestle\n",
    "import math\n",
    "\n",
    "import matplotlib.pyplot as plt\n",
    "import matplotlib.animation as animation\n",
    "\n",
    "import corner\n",
    "\n",
    "from scipy.integrate import quad\n",
    "\n",
    "from nsdmd import model \n",
    "from nsdmd import dmdio"
   ]
  },
  {
   "cell_type": "code",
   "execution_count": 9,
   "metadata": {
    "collapsed": false
   },
   "outputs": [
    {
     "name": "stderr",
     "output_type": "stream",
     "text": [
      "/Users/june/NestedSampling_DMD/NestedSampling_DMD/nsdmd/dmdio.py:21: ParserWarning: Falling back to the 'python' engine because the 'c' engine does not support regex separators (separators > 1 char and different from '\\s+' are interpreted as regex); you can avoid this warning by specifying engine='python'.\n",
      "  dataExp =pd.read_csv(data_file, sep=', ', header=None,names=['r','v','dv'])\n"
     ]
    }
   ],
   "source": [
    "data_x,data_xerr,data_y,data_yerr = dmdio.load_data('example_data.txt')"
   ]
  },
  {
   "cell_type": "code",
   "execution_count": null,
   "metadata": {
    "collapsed": true
   },
   "outputs": [],
   "source": []
  },
  {
   "cell_type": "markdown",
   "metadata": {},
   "source": [
    "Our raw data are obtained from Bhattacharjee et. al. 2014, Rotation Curve of the Milky Way out to ∼200 kpc (https://arxiv.org/abs/1310.2659)### The data will be used in this project is the measured rotational speed of the interstellar medium in our local galaxy, as shown in the following figure. "
   ]
  },
  {
   "cell_type": "code",
   "execution_count": 10,
   "metadata": {
    "collapsed": false
   },
   "outputs": [
    {
     "ename": "TypeError",
     "evalue": "unsupported operand type(s) for -: 'str' and 'int'",
     "output_type": "error",
     "traceback": [
      "\u001b[0;31m---------------------------------------------------------------------------\u001b[0m",
      "\u001b[0;31mTypeError\u001b[0m                                 Traceback (most recent call last)",
      "\u001b[0;32m<ipython-input-10-ad0ac9bb5119>\u001b[0m in \u001b[0;36m<module>\u001b[0;34m()\u001b[0m\n\u001b[1;32m      1\u001b[0m \u001b[0mplt\u001b[0m\u001b[0;34m.\u001b[0m\u001b[0mfigure\u001b[0m\u001b[0;34m(\u001b[0m\u001b[0;34m)\u001b[0m\u001b[0;34m\u001b[0m\u001b[0m\n\u001b[0;32m----> 2\u001b[0;31m \u001b[0mplt\u001b[0m\u001b[0;34m.\u001b[0m\u001b[0merrorbar\u001b[0m\u001b[0;34m(\u001b[0m\u001b[0mdata_x\u001b[0m\u001b[0;34m,\u001b[0m\u001b[0mdata_y\u001b[0m\u001b[0;34m,\u001b[0m\u001b[0mdata_yerr\u001b[0m\u001b[0;34m,\u001b[0m\u001b[0mdata_xerr\u001b[0m\u001b[0;34m,\u001b[0m\u001b[0mfmt\u001b[0m\u001b[0;34m=\u001b[0m\u001b[0;34m'*'\u001b[0m\u001b[0;34m)\u001b[0m\u001b[0;34m\u001b[0m\u001b[0m\n\u001b[0m\u001b[1;32m      3\u001b[0m \u001b[0mplt\u001b[0m\u001b[0;34m.\u001b[0m\u001b[0mxlabel\u001b[0m\u001b[0;34m(\u001b[0m\u001b[0;34m\"r (kpc)\"\u001b[0m\u001b[0;34m)\u001b[0m\u001b[0;34m\u001b[0m\u001b[0m\n\u001b[1;32m      4\u001b[0m \u001b[0mplt\u001b[0m\u001b[0;34m.\u001b[0m\u001b[0mylabel\u001b[0m\u001b[0;34m(\u001b[0m\u001b[0;34m'V (km/s)'\u001b[0m\u001b[0;34m)\u001b[0m\u001b[0;34m\u001b[0m\u001b[0m\n\u001b[1;32m      5\u001b[0m \u001b[0mplt\u001b[0m\u001b[0;34m.\u001b[0m\u001b[0mtitle\u001b[0m\u001b[0;34m(\u001b[0m\u001b[0;34m\"The measured rotational speed of the interstellar medium as a fucntion of the galactocentric radius\"\u001b[0m\u001b[0;34m)\u001b[0m\u001b[0;34m\u001b[0m\u001b[0m\n",
      "\u001b[0;32m//anaconda/lib/python3.5/site-packages/matplotlib/pyplot.py\u001b[0m in \u001b[0;36merrorbar\u001b[0;34m(x, y, yerr, xerr, fmt, ecolor, elinewidth, capsize, barsabove, lolims, uplims, xlolims, xuplims, errorevery, capthick, hold, data, **kwargs)\u001b[0m\n\u001b[1;32m   2835\u001b[0m                           \u001b[0mxlolims\u001b[0m\u001b[0;34m=\u001b[0m\u001b[0mxlolims\u001b[0m\u001b[0;34m,\u001b[0m \u001b[0mxuplims\u001b[0m\u001b[0;34m=\u001b[0m\u001b[0mxuplims\u001b[0m\u001b[0;34m,\u001b[0m\u001b[0;34m\u001b[0m\u001b[0m\n\u001b[1;32m   2836\u001b[0m                           \u001b[0merrorevery\u001b[0m\u001b[0;34m=\u001b[0m\u001b[0merrorevery\u001b[0m\u001b[0;34m,\u001b[0m \u001b[0mcapthick\u001b[0m\u001b[0;34m=\u001b[0m\u001b[0mcapthick\u001b[0m\u001b[0;34m,\u001b[0m \u001b[0mdata\u001b[0m\u001b[0;34m=\u001b[0m\u001b[0mdata\u001b[0m\u001b[0;34m,\u001b[0m\u001b[0;34m\u001b[0m\u001b[0m\n\u001b[0;32m-> 2837\u001b[0;31m                           **kwargs)\n\u001b[0m\u001b[1;32m   2838\u001b[0m     \u001b[0;32mfinally\u001b[0m\u001b[0;34m:\u001b[0m\u001b[0;34m\u001b[0m\u001b[0m\n\u001b[1;32m   2839\u001b[0m         \u001b[0max\u001b[0m\u001b[0;34m.\u001b[0m\u001b[0mhold\u001b[0m\u001b[0;34m(\u001b[0m\u001b[0mwashold\u001b[0m\u001b[0;34m)\u001b[0m\u001b[0;34m\u001b[0m\u001b[0m\n",
      "\u001b[0;32m//anaconda/lib/python3.5/site-packages/matplotlib/__init__.py\u001b[0m in \u001b[0;36minner\u001b[0;34m(ax, *args, **kwargs)\u001b[0m\n\u001b[1;32m   1817\u001b[0m                     warnings.warn(msg % (label_namer, func.__name__),\n\u001b[1;32m   1818\u001b[0m                                   RuntimeWarning, stacklevel=2)\n\u001b[0;32m-> 1819\u001b[0;31m             \u001b[0;32mreturn\u001b[0m \u001b[0mfunc\u001b[0m\u001b[0;34m(\u001b[0m\u001b[0max\u001b[0m\u001b[0;34m,\u001b[0m \u001b[0;34m*\u001b[0m\u001b[0margs\u001b[0m\u001b[0;34m,\u001b[0m \u001b[0;34m**\u001b[0m\u001b[0mkwargs\u001b[0m\u001b[0;34m)\u001b[0m\u001b[0;34m\u001b[0m\u001b[0m\n\u001b[0m\u001b[1;32m   1820\u001b[0m         \u001b[0mpre_doc\u001b[0m \u001b[0;34m=\u001b[0m \u001b[0minner\u001b[0m\u001b[0;34m.\u001b[0m\u001b[0m__doc__\u001b[0m\u001b[0;34m\u001b[0m\u001b[0m\n\u001b[1;32m   1821\u001b[0m         \u001b[0;32mif\u001b[0m \u001b[0mpre_doc\u001b[0m \u001b[0;32mis\u001b[0m \u001b[0;32mNone\u001b[0m\u001b[0;34m:\u001b[0m\u001b[0;34m\u001b[0m\u001b[0m\n",
      "\u001b[0;32m//anaconda/lib/python3.5/site-packages/matplotlib/axes/_axes.py\u001b[0m in \u001b[0;36merrorbar\u001b[0;34m(self, x, y, yerr, xerr, fmt, ecolor, elinewidth, capsize, barsabove, lolims, uplims, xlolims, xuplims, errorevery, capthick, **kwargs)\u001b[0m\n\u001b[1;32m   2879\u001b[0m \u001b[0;34m\u001b[0m\u001b[0m\n\u001b[1;32m   2880\u001b[0m         \u001b[0;32mif\u001b[0m \u001b[0mxerr\u001b[0m \u001b[0;32mis\u001b[0m \u001b[0;32mnot\u001b[0m \u001b[0;32mNone\u001b[0m\u001b[0;34m:\u001b[0m\u001b[0;34m\u001b[0m\u001b[0m\n\u001b[0;32m-> 2881\u001b[0;31m             \u001b[0mleft\u001b[0m\u001b[0;34m,\u001b[0m \u001b[0mright\u001b[0m \u001b[0;34m=\u001b[0m \u001b[0mextract_err\u001b[0m\u001b[0;34m(\u001b[0m\u001b[0mxerr\u001b[0m\u001b[0;34m,\u001b[0m \u001b[0mx\u001b[0m\u001b[0;34m)\u001b[0m\u001b[0;34m\u001b[0m\u001b[0m\n\u001b[0m\u001b[1;32m   2882\u001b[0m             \u001b[0;31m# select points without upper/lower limits in x and\u001b[0m\u001b[0;34m\u001b[0m\u001b[0;34m\u001b[0m\u001b[0m\n\u001b[1;32m   2883\u001b[0m             \u001b[0;31m# draw normal errorbars for these points\u001b[0m\u001b[0;34m\u001b[0m\u001b[0;34m\u001b[0m\u001b[0m\n",
      "\u001b[0;32m//anaconda/lib/python3.5/site-packages/matplotlib/axes/_axes.py\u001b[0m in \u001b[0;36mextract_err\u001b[0;34m(err, data)\u001b[0m\n\u001b[1;32m   2873\u001b[0m             \u001b[0;31m# using list comps rather than arrays to preserve units\u001b[0m\u001b[0;34m\u001b[0m\u001b[0;34m\u001b[0m\u001b[0m\n\u001b[1;32m   2874\u001b[0m             low = [thisx - thiserr for (thisx, thiserr)\n\u001b[0;32m-> 2875\u001b[0;31m                    in cbook.safezip(data, err)]\n\u001b[0m\u001b[1;32m   2876\u001b[0m             high = [thisx + thiserr for (thisx, thiserr)\n\u001b[1;32m   2877\u001b[0m                     in cbook.safezip(data, err)]\n",
      "\u001b[0;32m//anaconda/lib/python3.5/site-packages/matplotlib/axes/_axes.py\u001b[0m in \u001b[0;36m<listcomp>\u001b[0;34m(.0)\u001b[0m\n\u001b[1;32m   2872\u001b[0m                                      \"dimensions as x, or 2xN.\")\n\u001b[1;32m   2873\u001b[0m             \u001b[0;31m# using list comps rather than arrays to preserve units\u001b[0m\u001b[0;34m\u001b[0m\u001b[0;34m\u001b[0m\u001b[0m\n\u001b[0;32m-> 2874\u001b[0;31m             low = [thisx - thiserr for (thisx, thiserr)\n\u001b[0m\u001b[1;32m   2875\u001b[0m                    in cbook.safezip(data, err)]\n\u001b[1;32m   2876\u001b[0m             high = [thisx + thiserr for (thisx, thiserr)\n",
      "\u001b[0;31mTypeError\u001b[0m: unsupported operand type(s) for -: 'str' and 'int'"
     ]
    }
   ],
   "source": [
    "plt.figure()\n",
    "plt.errorbar(data_x,data_y,data_yerr,data_xerr,fmt='*')\n",
    "plt.xlabel(\"r (kpc)\")\n",
    "plt.ylabel('V (km/s)')\n",
    "plt.title(\"The measured rotational speed of the interstellar medium as a fucntion of the galactocentric radius\")\n",
    "plt.show()"
   ]
  },
  {
   "cell_type": "markdown",
   "metadata": {},
   "source": [
    "### The log likelihood is meant to capture how well a model is able to reproduce the data that it is meant to simulate.\n",
    "\n",
    "$log p(D|M, I) = constant* \\prod_{i}^{} log(\\sigma_i)  \\sum_{i}{}(\\frac{(v_{icalculated} - v_{imeasured})^2}{2 \\sigma_i^2}) $\n",
    "\n",
    "$constant* \\prod_{i}^{} log(\\sigma_i) $, this part doesn't matter much since they are the same for all. \n",
    "\n",
    "$log p(D|M, I) =  \\sum_{i}{}(\\frac{(v_{icalculated} - v_{imeasured})^2}{2 \\sigma_i^2}) $"
   ]
  },
  {
   "cell_type": "code",
   "execution_count": 91,
   "metadata": {
    "collapsed": true
   },
   "outputs": [],
   "source": [
    "# Define model\n",
    "def model_NFW(theta, x):\n",
    "    \n",
    "    # Calculate the mass between 0 and data_x by integrating the NFW distribution.\n",
    "    #\n",
    "    # Note: the mass defined here does not include the normalization constant rho0 (kg/kpc^3).\n",
    "    # The units of a are kpc.\n",
    "    # The units of the \"mass\" calculated here are thus kpc^3.\n",
    "    a = theta[0]\n",
    "    mass = 4.*np.pi*(a**3)*(np.log((a+x)/a)-x/(a+x))\n",
    "        \n",
    "    # Calculate the rotation velocity: vrot = theta[1]*sqrt(mass/x)\n",
    "    # The units of sqrt(mass/x) are kpc.\n",
    "    # The rotation velocity is equal to sqrt(G*rho0)*sqrt((M/rho0)/x) where M is the mass enclosed, \n",
    "    # rho0 is the normalization constant of the mass distribution, and x is the distance at which we\n",
    "    # calculate vrot.\n",
    "    # When we determine theta[1], we determine sqrt(G*rho0).\n",
    "    # The units of vrot are km/s.\n",
    "    # The units of sqrt(mass/x) are kpc.\n",
    "    # The units of theta[1] are thus (km/s)/kpc = (10^3 m)/s/(3.086E19 m) = 3.24E-17 1/s.\n",
    "    # Since theta[1] = sqrt(G*rho0) we can now determine rho0: rho0 = theta[1]^2/G.\n",
    "    # The units on the right-hand side are: (3.24E-17 1/s)^2/(m^3/(kg s^2)) = (3.24E-17)^2 kg/(m^3)\n",
    "    # To convert from kg/m^3 to kg/kpc^3, we multiply by (3.086E19)^3\n",
    "    # The normalization constant rho0 is thus (theta1[1]^2)/6.67E-11 * ((3.24E-17)^2 * (3.086E19)^3 kg/(kpc)^3 = \n",
    "    # (theta1[1]^2)*4.625E35 kg/(kpc)^3 = 2.312E5 Msun/(kpc)^3.\n",
    "    vrot = theta[1]*np.sqrt(mass/x) \n",
    "    \n",
    "    return vrot"
   ]
  },
  {
   "cell_type": "code",
   "execution_count": 92,
   "metadata": {
    "collapsed": true
   },
   "outputs": [],
   "source": [
    "# Define a likelihood function\n",
    "def loglike_NFW(theta):\n",
    "    \n",
    "    # Calculate the mass between 0 and data_x by integrating the NFW distribution.\n",
    "    a = theta[0]\n",
    "    mass = 4.*np.pi*(a**3)*(np.log((a+data_x)/a-data_x/(a+data_x)))\n",
    "        \n",
    "    # Calculate the rotation velocity.\n",
    "    vrot = theta[1]*np.sqrt(mass/data_x) \n",
    "    \n",
    "    # The y variable is the rotational velocity.\n",
    "    y = vrot\n",
    "\n",
    "    # Calculate chisq\n",
    "    chisq= np.sum(((data_y - y) / data_yerr)**2)\n",
    "    return -chisq / 2.\n",
    "\n"
   ]
  },
  {
   "cell_type": "markdown",
   "metadata": {},
   "source": [
    "### The prior: \n",
    "uniform priors with constraints from literature. \n",
    "  "
   ]
  },
  {
   "cell_type": "code",
   "execution_count": 93,
   "metadata": {
    "collapsed": true
   },
   "outputs": [],
   "source": [
    "# It is a transformation from a space where variables are independently and uniformly distributed between 0 and 1 to the parameter space of interest. \n",
    "# \n",
    "\n",
    "\n",
    "def prior_transform_NFW(theta):\n",
    "    \n",
    "    # theta[0] in the range of [0,10] and theta[1] in the range of [0,300]\n",
    "    # return  np.array([10, 300]) * theta\n",
    "    return  np.array([10*theta[0],500*theta[1]])\n"
   ]
  },
  {
   "cell_type": "markdown",
   "metadata": {},
   "source": [
    "Therefore, we can calculated the posterior $ p(M|D,I) = \\frac{p(M|I) p(D|M, I)}{p(D|I)} $ and compare the posterior by MCMC and/or Nestle to do model comparison. \n",
    "\n",
    "By using the Nestle package, it will give us log evidence, numerical (sampling) error on logz, array of sample parameters, array of weights associated with each sampleand result.weights. "
   ]
  },
  {
   "cell_type": "code",
   "execution_count": 94,
   "metadata": {
    "collapsed": false
   },
   "outputs": [
    {
     "name": "stdout",
     "output_type": "stream",
     "text": [
      "log evidence\n",
      "-49.2344879067\n",
      "numerical (sampling) error on logz\n",
      "0.261013328151\n",
      "array of sample parameters\n",
      "[[   9.52258066  490.33532233]\n",
      " [   9.65912151  403.00478683]\n",
      " [   9.20280593  419.00792852]\n",
      " ..., \n",
      " [   2.59451038   47.3038859 ]\n",
      " [   2.35096508   53.55544642]\n",
      " [   2.10495199   61.66699495]]\n",
      "array of weights associated with each sample\n",
      "[  0.00000000e+000   0.00000000e+000   0.00000000e+000   0.00000000e+000\n",
      "   0.00000000e+000   0.00000000e+000   0.00000000e+000   0.00000000e+000\n",
      "   0.00000000e+000   0.00000000e+000   0.00000000e+000   0.00000000e+000\n",
      "   0.00000000e+000   0.00000000e+000   0.00000000e+000   0.00000000e+000\n",
      "   0.00000000e+000   0.00000000e+000   0.00000000e+000   0.00000000e+000\n",
      "   0.00000000e+000   0.00000000e+000   0.00000000e+000   0.00000000e+000\n",
      "   0.00000000e+000   0.00000000e+000   0.00000000e+000   0.00000000e+000\n",
      "   0.00000000e+000   0.00000000e+000   0.00000000e+000   0.00000000e+000\n",
      "   0.00000000e+000   0.00000000e+000   0.00000000e+000   0.00000000e+000\n",
      "   0.00000000e+000   0.00000000e+000   0.00000000e+000   0.00000000e+000\n",
      "   0.00000000e+000   0.00000000e+000   0.00000000e+000   0.00000000e+000\n",
      "   0.00000000e+000   0.00000000e+000   0.00000000e+000   0.00000000e+000\n",
      "   0.00000000e+000   0.00000000e+000   0.00000000e+000   0.00000000e+000\n",
      "   0.00000000e+000   0.00000000e+000   0.00000000e+000   0.00000000e+000\n",
      "   0.00000000e+000   0.00000000e+000   0.00000000e+000   0.00000000e+000\n",
      "   0.00000000e+000   0.00000000e+000   0.00000000e+000   0.00000000e+000\n",
      "   0.00000000e+000   0.00000000e+000   0.00000000e+000   0.00000000e+000\n",
      "   0.00000000e+000   0.00000000e+000   0.00000000e+000   0.00000000e+000\n",
      "   0.00000000e+000   0.00000000e+000   0.00000000e+000   0.00000000e+000\n",
      "   0.00000000e+000   0.00000000e+000   0.00000000e+000   0.00000000e+000\n",
      "   0.00000000e+000   0.00000000e+000   0.00000000e+000   0.00000000e+000\n",
      "   0.00000000e+000   0.00000000e+000   0.00000000e+000   0.00000000e+000\n",
      "   0.00000000e+000   0.00000000e+000   0.00000000e+000   0.00000000e+000\n",
      "   0.00000000e+000   0.00000000e+000   0.00000000e+000   0.00000000e+000\n",
      "   0.00000000e+000   0.00000000e+000   0.00000000e+000   0.00000000e+000\n",
      "   0.00000000e+000   0.00000000e+000   0.00000000e+000   0.00000000e+000\n",
      "   0.00000000e+000   0.00000000e+000   0.00000000e+000   0.00000000e+000\n",
      "   0.00000000e+000   0.00000000e+000   0.00000000e+000   0.00000000e+000\n",
      "   0.00000000e+000   0.00000000e+000   0.00000000e+000   0.00000000e+000\n",
      "   0.00000000e+000   0.00000000e+000   0.00000000e+000   0.00000000e+000\n",
      "   0.00000000e+000   0.00000000e+000   0.00000000e+000   0.00000000e+000\n",
      "   0.00000000e+000   0.00000000e+000   0.00000000e+000   0.00000000e+000\n",
      "   0.00000000e+000   0.00000000e+000   0.00000000e+000   0.00000000e+000\n",
      "   0.00000000e+000   0.00000000e+000   0.00000000e+000   0.00000000e+000\n",
      "   0.00000000e+000   0.00000000e+000   0.00000000e+000   0.00000000e+000\n",
      "   0.00000000e+000   0.00000000e+000   0.00000000e+000   0.00000000e+000\n",
      "   0.00000000e+000   0.00000000e+000   0.00000000e+000   0.00000000e+000\n",
      "   0.00000000e+000   0.00000000e+000   0.00000000e+000   0.00000000e+000\n",
      "   0.00000000e+000   0.00000000e+000   0.00000000e+000   0.00000000e+000\n",
      "   0.00000000e+000   0.00000000e+000   0.00000000e+000   0.00000000e+000\n",
      "   0.00000000e+000   0.00000000e+000   0.00000000e+000   0.00000000e+000\n",
      "   0.00000000e+000   0.00000000e+000   0.00000000e+000   0.00000000e+000\n",
      "   0.00000000e+000   0.00000000e+000   0.00000000e+000   0.00000000e+000\n",
      "   0.00000000e+000   0.00000000e+000   0.00000000e+000   0.00000000e+000\n",
      "   0.00000000e+000   0.00000000e+000   0.00000000e+000   0.00000000e+000\n",
      "   0.00000000e+000   0.00000000e+000   0.00000000e+000   0.00000000e+000\n",
      "   0.00000000e+000   0.00000000e+000   0.00000000e+000   0.00000000e+000\n",
      "   0.00000000e+000   0.00000000e+000   0.00000000e+000   0.00000000e+000\n",
      "   0.00000000e+000   0.00000000e+000   0.00000000e+000   0.00000000e+000\n",
      "   0.00000000e+000   0.00000000e+000   0.00000000e+000   0.00000000e+000\n",
      "   0.00000000e+000   0.00000000e+000   0.00000000e+000   0.00000000e+000\n",
      "   0.00000000e+000   0.00000000e+000   0.00000000e+000   0.00000000e+000\n",
      "   0.00000000e+000   0.00000000e+000   0.00000000e+000   0.00000000e+000\n",
      "   0.00000000e+000   0.00000000e+000   0.00000000e+000   0.00000000e+000\n",
      "   0.00000000e+000   0.00000000e+000   0.00000000e+000   0.00000000e+000\n",
      "   0.00000000e+000   0.00000000e+000   0.00000000e+000   0.00000000e+000\n",
      "   0.00000000e+000   0.00000000e+000   0.00000000e+000   0.00000000e+000\n",
      "   0.00000000e+000   0.00000000e+000   0.00000000e+000   0.00000000e+000\n",
      "   0.00000000e+000   0.00000000e+000   0.00000000e+000   0.00000000e+000\n",
      "   0.00000000e+000   0.00000000e+000   0.00000000e+000   0.00000000e+000\n",
      "   0.00000000e+000   0.00000000e+000   0.00000000e+000   0.00000000e+000\n",
      "   0.00000000e+000   0.00000000e+000   0.00000000e+000   0.00000000e+000\n",
      "   0.00000000e+000   0.00000000e+000   0.00000000e+000   0.00000000e+000\n",
      "   0.00000000e+000   0.00000000e+000   0.00000000e+000   0.00000000e+000\n",
      "   0.00000000e+000   0.00000000e+000   0.00000000e+000   0.00000000e+000\n",
      "   0.00000000e+000   0.00000000e+000   0.00000000e+000   0.00000000e+000\n",
      "   0.00000000e+000   0.00000000e+000   0.00000000e+000   0.00000000e+000\n",
      "   0.00000000e+000   0.00000000e+000   0.00000000e+000   0.00000000e+000\n",
      "   0.00000000e+000   4.94065646e-324   9.88131292e-324   3.06353217e-312\n",
      "   2.10441898e-309   4.75502824e-306   1.36616128e-302   6.32902686e-295\n",
      "   1.18653415e-285   3.59213122e-275   3.28824358e-274   2.26145623e-264\n",
      "   1.27543276e-258   1.73451382e-249   1.73114699e-249   2.90537944e-245\n",
      "   9.12934480e-243   1.28250031e-236   1.84817510e-218   4.78262838e-218\n",
      "   1.70632679e-213   1.87891499e-199   2.76435629e-190   2.61542111e-189\n",
      "   1.07196101e-182   1.70788805e-181   1.23346179e-180   1.41312650e-167\n",
      "   3.14505711e-166   4.00858281e-161   4.92874996e-159   5.79116106e-159\n",
      "   3.44759778e-158   1.48082539e-155   8.94763205e-150   6.91396723e-149\n",
      "   1.70513388e-147   4.96907245e-147   6.24249320e-147   4.90519684e-144\n",
      "   1.38883384e-140   1.21737670e-136   1.50127139e-132   1.71591744e-129\n",
      "   1.19127675e-128   1.09675012e-127   3.58593156e-126   3.93318670e-125\n",
      "   1.09592423e-122   2.67899875e-122   1.49044042e-121   1.59473952e-119\n",
      "   7.60381577e-116   3.07226301e-113   5.36782964e-110   2.73718695e-108\n",
      "   6.62113748e-108   2.63494671e-103   1.11727424e-099   4.87985841e-099\n",
      "   7.57126785e-099   1.36415190e-097   2.74776157e-097   1.23472208e-091\n",
      "   4.64963365e-091   7.39108148e-091   6.57807909e-090   4.37424762e-089\n",
      "   1.57910003e-088   4.53800003e-088   4.39662809e-087   8.65359678e-087\n",
      "   1.56987487e-086   6.37364219e-084   1.15876800e-082   1.18686803e-079\n",
      "   1.76762129e-078   2.74299402e-077   7.50681854e-077   4.43799897e-076\n",
      "   4.79095795e-076   4.81477319e-072   3.24688097e-071   3.17115178e-070\n",
      "   6.88920190e-069   1.87089209e-068   3.26540356e-067   1.11070336e-066\n",
      "   4.60335031e-063   2.28333926e-062   6.55100987e-062   7.43062947e-062\n",
      "   1.53239173e-061   1.52906149e-060   2.68498526e-060   5.00850805e-060\n",
      "   1.94854423e-059   1.29856027e-058   4.09369595e-058   2.39421801e-057\n",
      "   4.09121619e-057   1.12063898e-050   1.43823651e-050   1.64493644e-050\n",
      "   1.80103846e-049   1.98513609e-048   3.48816489e-048   1.63497949e-047\n",
      "   2.31461122e-046   3.75703185e-046   4.05919148e-046   6.53496537e-046\n",
      "   1.05755340e-045   8.01921297e-045   1.80651151e-042   6.20134274e-042\n",
      "   5.98278879e-041   1.93382306e-040   3.76326589e-039   2.76995271e-038\n",
      "   1.16331501e-037   1.68481432e-037   7.92074552e-037   6.28230898e-036\n",
      "   1.08685982e-035   2.57829328e-034   4.16645904e-034   5.77000864e-033\n",
      "   3.41808738e-032   6.62790989e-032   2.62404283e-031   1.41413872e-028\n",
      "   2.43115993e-027   5.34925335e-027   5.86386397e-027   1.43355438e-026\n",
      "   1.61482790e-026   3.66601344e-026   1.14866764e-025   1.46611099e-025\n",
      "   1.99864810e-025   2.63856444e-025   3.91622375e-025   8.20253441e-025\n",
      "   9.29405679e-025   6.02889484e-024   7.72618834e-024   1.65628856e-023\n",
      "   9.58885164e-023   1.00986589e-022   4.96803684e-022   1.07001556e-021\n",
      "   1.07185453e-021   4.29778686e-021   1.35618246e-020   1.90034723e-020\n",
      "   1.04133298e-019   1.03135201e-019   5.11190843e-019   1.79964342e-018\n",
      "   1.95533820e-018   4.32982300e-018   6.78311811e-018   1.41344746e-017\n",
      "   1.49891447e-017   1.52082482e-017   1.76099903e-017   5.33310113e-017\n",
      "   1.19209624e-016   6.01593943e-016   7.78487396e-016   1.59232990e-015\n",
      "   2.40806933e-015   7.08432896e-015   1.07558586e-014   1.28033114e-014\n",
      "   2.44658999e-014   2.99901296e-014   6.02144787e-014   9.31232225e-014\n",
      "   9.70065543e-014   1.08949885e-013   9.78677307e-013   2.05944109e-012\n",
      "   2.97957508e-012   2.99179112e-012   4.15138313e-012   6.90958366e-012\n",
      "   7.08645155e-012   7.88583637e-012   9.45864270e-012   1.48691137e-011\n",
      "   1.99262712e-011   2.58090216e-011   3.04227845e-011   1.12161338e-010\n",
      "   1.13466715e-010   1.15594949e-010   1.57512598e-010   1.77757261e-010\n",
      "   2.41452690e-010   4.76416083e-010   5.47649693e-010   6.43771796e-010\n",
      "   6.91064886e-010   7.78133060e-010   7.87875694e-010   8.10642242e-010\n",
      "   1.04460882e-009   1.41708196e-009   1.42859202e-009   1.52501458e-009\n",
      "   1.81178317e-009   2.16324166e-009   4.89028145e-009   5.15713192e-009\n",
      "   6.40603261e-009   8.62240850e-009   9.07920219e-009   9.22633957e-009\n",
      "   1.19129562e-008   1.54184328e-008   1.56235932e-008   1.68701551e-008\n",
      "   1.67052107e-008   2.55219999e-008   2.52937868e-008   3.05226757e-008\n",
      "   3.04913428e-008   3.74346593e-008   4.93987680e-008   5.12512302e-008\n",
      "   8.23500350e-008   9.92980348e-008   1.15749711e-007   1.28551402e-007\n",
      "   1.76107062e-007   1.99343373e-007   2.03503809e-007   2.93040184e-007\n",
      "   3.30424258e-007   3.50789481e-007   3.80769045e-007   3.90938073e-007\n",
      "   4.43353754e-007   1.14189259e-006   1.26070605e-006   1.40466599e-006\n",
      "   2.28450393e-006   2.33068582e-006   3.76502503e-006   3.72824169e-006\n",
      "   4.14709794e-006   5.10189262e-006   5.09789279e-006   5.46819630e-006\n",
      "   6.26573079e-006   7.99460580e-006   8.95471818e-006   9.45037086e-006\n",
      "   1.00533723e-005   1.29476669e-005   1.68590485e-005   1.80178870e-005\n",
      "   1.94942236e-005   1.98778878e-005   2.04079667e-005   2.18689258e-005\n",
      "   2.47056814e-005   2.45692803e-005   2.75484037e-005   2.75768300e-005\n",
      "   3.40472082e-005   3.41161675e-005   3.70430309e-005   3.79213003e-005\n",
      "   3.99394750e-005   4.40384315e-005   4.80754477e-005   4.93116602e-005\n",
      "   5.06656798e-005   5.26454373e-005   5.81508598e-005   5.91682540e-005\n",
      "   6.46260669e-005   6.62604147e-005   6.58934459e-005   6.54086960e-005\n",
      "   6.65469533e-005   6.68013296e-005   6.72153790e-005   7.02627538e-005\n",
      "   7.47267985e-005   7.65844059e-005   7.76880492e-005   8.28370557e-005\n",
      "   9.68873989e-005   1.01574710e-004   1.03084993e-004   1.13914736e-004\n",
      "   1.13965535e-004   1.13307982e-004   1.17110299e-004   1.19459495e-004\n",
      "   1.21343685e-004   1.23783816e-004   1.37564966e-004   1.37070296e-004\n",
      "   1.40492094e-004   1.40388491e-004   1.39070376e-004   1.40997882e-004\n",
      "   1.57900379e-004   1.57163581e-004   1.61069695e-004   1.72684468e-004\n",
      "   2.00504206e-004   2.36166978e-004   2.44631214e-004   2.46369573e-004\n",
      "   2.46791527e-004   2.47529557e-004   2.70346415e-004   2.88567886e-004\n",
      "   2.97637108e-004   2.98410487e-004   3.00425378e-004   3.09644522e-004\n",
      "   3.14893370e-004   3.17466731e-004   3.14718682e-004   3.21623045e-004\n",
      "   3.30229722e-004   3.27489913e-004   3.27674196e-004   3.28119186e-004\n",
      "   3.31643823e-004   3.32407790e-004   3.34545589e-004   3.36653778e-004\n",
      "   3.37583781e-004   3.44645342e-004   3.58715732e-004   3.56698362e-004\n",
      "   3.60160263e-004   3.84135332e-004   3.81936282e-004   3.78760533e-004\n",
      "   3.84353919e-004   3.87637472e-004   3.97425467e-004   3.96238584e-004\n",
      "   3.99831150e-004   4.01830749e-004   4.12905977e-004   4.21714001e-004\n",
      "   4.44630396e-004   4.94494398e-004   4.90761800e-004   5.18435687e-004\n",
      "   5.21589287e-004   5.25222127e-004   5.46734947e-004   5.50938270e-004\n",
      "   5.55879005e-004   5.82648624e-004   5.85717086e-004   5.88326100e-004\n",
      "   6.17627908e-004   6.26015694e-004   6.54917784e-004   6.88923008e-004\n",
      "   6.84426697e-004   6.99126760e-004   7.66259119e-004   8.26305931e-004\n",
      "   8.18158144e-004   8.91104489e-004   8.97859562e-004   8.92410365e-004\n",
      "   8.91953171e-004   8.97977306e-004   9.00439138e-004   9.44764264e-004\n",
      "   9.45569238e-004   9.69449946e-004   1.00914981e-003   1.03692211e-003\n",
      "   1.02826001e-003   1.06271299e-003   1.08956391e-003   1.08007367e-003\n",
      "   1.10598498e-003   1.10015529e-003   1.15267237e-003   1.18048083e-003\n",
      "   1.25073773e-003   1.25385095e-003   1.26681226e-003   1.29209022e-003\n",
      "   1.28761703e-003   1.36744192e-003   1.53273999e-003   1.60864362e-003\n",
      "   1.61796948e-003   1.61955487e-003   1.61007428e-003   1.60779688e-003\n",
      "   1.65822233e-003   1.64770928e-003   1.69261735e-003   1.72900595e-003\n",
      "   1.75854922e-003   1.80076169e-003   1.83856648e-003   1.83844125e-003\n",
      "   1.86841331e-003   1.88645225e-003   1.94582303e-003   2.02824177e-003\n",
      "   2.03955110e-003   2.03358913e-003   2.06379057e-003   2.04610557e-003\n",
      "   2.23500968e-003   2.36651920e-003   2.36115577e-003   2.36583058e-003\n",
      "   2.34684302e-003   2.36441901e-003   2.34115063e-003   2.34334495e-003\n",
      "   2.33474239e-003   2.36138778e-003   2.34970170e-003   2.35668812e-003\n",
      "   2.34118254e-003   2.55483351e-003   2.53950101e-003   2.51969629e-003\n",
      "   2.55942032e-003   2.62947118e-003   2.74635875e-003   2.71924037e-003\n",
      "   2.75103315e-003   2.79307636e-003   2.88815733e-003   2.87090772e-003\n",
      "   2.84357025e-003   2.87305009e-003   2.84505996e-003   2.93229883e-003\n",
      "   2.93169439e-003   2.94652468e-003   2.92139290e-003   2.90506552e-003\n",
      "   2.90785698e-003   2.94716725e-003   2.92350439e-003   2.94976810e-003\n",
      "   2.93539037e-003   2.91818113e-003   2.89757206e-003   2.91052914e-003\n",
      "   2.90921047e-003   2.95565716e-003   2.94467690e-003   2.95522601e-003\n",
      "   2.95471084e-003   3.00583167e-003   3.03979032e-003   3.06259648e-003\n",
      "   3.04249493e-003   3.02497080e-003   2.99513502e-003   3.02067715e-003\n",
      "   3.08863570e-003   3.08648961e-003   3.11946214e-003   3.14893246e-003\n",
      "   3.13328610e-003   3.13020123e-003   3.11847055e-003   3.17723190e-003\n",
      "   3.25032385e-003   3.32566183e-003   3.42002061e-003   3.40179290e-003\n",
      "   3.45192004e-003   3.47046830e-003   3.44350971e-003   3.42097934e-003\n",
      "   3.40913055e-003   3.38022692e-003   3.39281700e-003   3.36339204e-003\n",
      "   3.43378796e-003   3.40506691e-003   3.39666900e-003   3.48709842e-003\n",
      "   3.49272152e-003   3.48733993e-003   3.53964971e-003   3.50789163e-003\n",
      "   3.48037451e-003   3.56026267e-003   3.56728638e-003   3.58130607e-003\n",
      "   3.61749297e-003   3.58685588e-003   3.59463739e-003   3.58172325e-003\n",
      "   3.56368132e-003   3.54115962e-003   3.58353040e-003   3.59873307e-003\n",
      "   3.56909346e-003   3.60096722e-003   3.58255661e-003   3.59365052e-003\n",
      "   3.55951589e-003   3.54593248e-003   3.53501441e-003   3.51414468e-003\n",
      "   3.48764041e-003   3.53656696e-003   3.53652502e-003   3.51224022e-003\n",
      "   3.52975347e-003   3.50387645e-003   3.53737153e-003   3.53907229e-003\n",
      "   3.52439030e-003   3.49033461e-003   3.46355587e-003   3.43298407e-003\n",
      "   3.42046942e-003   3.40906802e-003   3.37707881e-003   3.34577545e-003\n",
      "   3.32010652e-003   3.29097534e-003   3.26467158e-003   3.28991172e-003\n",
      "   3.25975391e-003   3.25515078e-003   3.22813034e-003   3.20822214e-003\n",
      "   3.19548776e-003   3.20439912e-003   3.23445146e-003   3.24647188e-003\n",
      "   3.26653251e-003   3.24926794e-003   3.22736070e-003   3.27370679e-003\n",
      "   3.24685898e-003   3.21899258e-003   3.19462271e-003   3.20066826e-003\n",
      "   3.22319184e-003   3.19777455e-003   3.18886402e-003   3.16990265e-003\n",
      "   3.14124104e-003   3.18622513e-003   3.17331373e-003   3.16938402e-003\n",
      "   3.15766866e-003   3.17881440e-003   3.16758695e-003   3.14120061e-003\n",
      "   3.15054091e-003   3.14207329e-003   3.12557249e-003   3.10507415e-003\n",
      "   3.08496282e-003   3.06187209e-003   3.04528821e-003   3.03965598e-003\n",
      "   3.01069159e-003   3.00218314e-003   2.97833036e-003   2.98135545e-003\n",
      "   2.95450234e-003   2.95725126e-003   2.93451067e-003   2.92758826e-003\n",
      "   2.90393468e-003   2.91321977e-003   2.92152756e-003   2.89666711e-003\n",
      "   2.88352930e-003   2.86733845e-003   2.84885254e-003   2.82635720e-003\n",
      "   2.82215026e-003   2.79937465e-003   2.78947729e-003   2.76787196e-003\n",
      "   2.74406201e-003   2.72164877e-003   2.69824951e-003   3.41198853e-003\n",
      "   3.96096833e-003   3.09095503e-003   3.77626190e-003   3.72001067e-003\n",
      "   4.16763668e-003   3.95256881e-003   2.86573218e-003   3.76987371e-003\n",
      "   4.01459362e-003   3.71757541e-003   2.76716959e-003   3.22926781e-003\n",
      "   3.08430042e-003   2.80499773e-003   2.71343706e-003   3.31377593e-003\n",
      "   2.79708519e-003   3.68381346e-003   3.22263290e-003   3.70003130e-003\n",
      "   3.39660422e-003   3.12387924e-003   3.76429352e-003   3.88564061e-003\n",
      "   3.24780395e-003   3.01785655e-003   2.88938165e-003   3.45068118e-003\n",
      "   3.22556884e-003   3.61970407e-003   3.23623486e-003   2.86634916e-003\n",
      "   3.02890788e-003   4.09429849e-003   3.74725239e-003   3.53617087e-003\n",
      "   2.91799060e-003   2.93426850e-003   4.06244832e-003   4.15335664e-003\n",
      "   3.56373706e-003   3.76493475e-003   3.86476370e-003   3.20517470e-003\n",
      "   4.16735583e-003   3.75394522e-003   3.39924861e-003   3.95361078e-003\n",
      "   2.79720017e-003   3.48159960e-003   3.71826776e-003   3.74300602e-003\n",
      "   3.13481948e-003   3.46540199e-003   2.90021462e-003   3.81555633e-003\n",
      "   3.00564797e-003   3.93237340e-003   3.50458716e-003   2.86860258e-003\n",
      "   3.10083827e-003   3.15285136e-003   4.03933424e-003   2.94292773e-003\n",
      "   3.35901481e-003   3.22695124e-003   3.66494900e-003   3.60824058e-003\n",
      "   3.06089958e-003   3.15961386e-003   4.10539003e-003   2.86634380e-003\n",
      "   3.33624199e-003   3.58726201e-003   4.17876882e-003   3.94436773e-003\n",
      "   4.01956892e-003   3.50999765e-003   3.61633789e-003   2.68763754e-003\n",
      "   3.23117980e-003   3.99168018e-003   4.14638277e-003   3.26443788e-003\n",
      "   3.08221831e-003   4.07565535e-003   4.06807530e-003   3.14114204e-003\n",
      "   3.08720471e-003   3.43098873e-003   3.88456349e-003   3.08938058e-003\n",
      "   3.59528569e-003   3.25184990e-003   4.00006947e-003   3.74827415e-003\n",
      "   3.61586116e-003   3.64037346e-003   3.00113793e-003]\n"
     ]
    }
   ],
   "source": [
    "# Run nested sampling.\n",
    "result = nestle.sample(loglike_NFW, prior_transform_NFW, 2)\n",
    "\n",
    "print ('log evidence')\n",
    "print (result.logz)\n",
    "\n",
    "print ('numerical (sampling) error on logz')\n",
    "print (result.logzerr)   \n",
    "       \n",
    "print ('array of sample parameters')\n",
    "print (result.samples)  \n",
    "       \n",
    "print ('array of weights associated with each sample')\n",
    "print (result.weights)\n"
   ]
  },
  {
   "cell_type": "code",
   "execution_count": 95,
   "metadata": {
    "collapsed": false
   },
   "outputs": [
    {
     "name": "stdout",
     "output_type": "stream",
     "text": [
      "core radius a =  2.14 +/-  0.62 kpc\n",
      "normalization factor = 70.62 +/- 34.06\n",
      "Halo density normalization constant = 1.63e+07 +/- 7.87e+06 Msun/kpc^3\n",
      "Halo density in our solor system = 5.60e+07 Msun/kpc^3.\n",
      "Halo density in our solor system = 2.14e+03 GeV/c^2/liter.\n"
     ]
    },
    {
     "data": {
      "image/png": "[encoded data removed]",
      "text/plain": [
       "<matplotlib.figure.Figure at 0x11012eed0>"
      ]
     },
     "metadata": {},
     "output_type": "display_data"
    },
    {
     "data": {
      "image/png": "[encoded data removed]",
      "text/plain": [
       "<matplotlib.figure.Figure at 0x10f063950>"
      ]
     },
     "metadata": {},
     "output_type": "display_data"
    }
   ],
   "source": [
    "data_xerr = 0\n",
    "p, cov = nestle.mean_and_cov(result.samples, result.weights)\n",
    "\n",
    "print(\"core radius a = {0:5.2f} +/- {1:5.2f} kpc\".format(p[0], np.sqrt(cov[0, 0])))\n",
    "print(\"normalization factor = {0:5.2f} +/- {1:5.2f}\".format(p[1], np.sqrt(cov[1, 1])))\n",
    "print(\"Halo density normalization constant = {0:5.2e} +/- {1:5.2e} Msun/kpc^3\".format(2.312E5*p[1], 2.312E5*np.sqrt(cov[1, 1])))\n",
    "\n",
    "# Note: in order to convert the model to units of Msun/kpc^3 we multiply its value by 2.312E5.\n",
    "# See comments in the model definition for details.\n",
    "print(\"Halo density in our solor system = {0:5.2e} Msun/kpc^3.\".format(2.312E5*model_NFW(p, 8)))\n",
    "\n",
    "# Note: 1 Msun/kpc^3 = 3.817E-2 (GeV/c^2)/m^3 = 3.817E-5 (GeV/c^2)/(dm^3)\n",
    "# 1 dm^3 = 1 liter.\n",
    "# 3 WIMPS/liter would be 300 GeV/c^2/liter\n",
    "print(\"Halo density in our solor system = {0:5.2e} GeV/c^2/liter.\".format(3.817E-5*2.312E5*model_NFW(p, 8)))\n",
    "\n",
    "plt.figure()\n",
    "plt.errorbar(data_x,data_y,data_yerr,data_xerr,fmt='*')\n",
    "plt.xlabel(\"r (kpc)\")\n",
    "plt.ylabel('V (km/s)')\n",
    "plt.title(\"The measured rotational speed of the interstellar medium as a fucntion of the galactocentric radius\")\n",
    "plt.plot([5.,200.],model_NFW(p, np.array([5.,200.])))\n",
    "plt.show()\n",
    "\n",
    "fig = corner.corner(result.samples, weights=result.weights, labels=['a', 'rho0'],\n",
    "                    range=[0.99999, 0.99999], bins=30)\n",
    "plt.show()"
   ]
  }
 ],
 "metadata": {
  "anaconda-cloud": {},
  "kernelspec": {
   "display_name": "Python [conda root]",
   "language": "python",
   "name": "conda-root-py"
  },
  "language_info": {
   "codemirror_mode": {
    "name": "ipython",
    "version": 3
   },
   "file_extension": ".py",
   "mimetype": "text/x-python",
   "name": "python",
   "nbconvert_exporter": "python",
   "pygments_lexer": "ipython3",
   "version": "3.5.2"
  }
 },
 "nbformat": 4,
 "nbformat_minor": 2
}
